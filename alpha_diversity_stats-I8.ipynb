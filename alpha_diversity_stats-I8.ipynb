{
 "cells": [
  {
   "cell_type": "code",
   "execution_count": 73,
   "id": "3298e569-b7b0-46d8-8ad0-5b111ef10e53",
   "metadata": {
    "execution": {
     "iopub.execute_input": "2023-06-27T11:07:36.608000+08:00",
     "iopub.status.busy": "2023-06-27T11:07:36.608000+08:00",
     "iopub.status.idle": "2023-06-27T11:07:36.612000+08:00",
     "shell.execute_reply": "2023-06-27T11:07:36.611000+08:00"
    },
    "tags": []
   },
   "outputs": [],
   "source": [
    "using HypothesisTests\n",
    "using MultipleTesting\n",
    "using CSV, DataFrames"
   ]
  },
  {
   "cell_type": "code",
   "execution_count": 128,
   "id": "8aae2d8a-7227-4432-ab91-709ed7306c4f",
   "metadata": {
    "execution": {
     "iopub.execute_input": "2023-06-27T11:58:57.670000+08:00",
     "iopub.status.busy": "2023-06-27T11:58:57.670000+08:00",
     "iopub.status.idle": "2023-06-27T11:58:57.685000+08:00",
     "shell.execute_reply": "2023-06-27T11:58:57.683000+08:00"
    },
    "tags": []
   },
   "outputs": [
    {
     "data": {
      "text/html": [
       "<div><div style = \"float: left;\"><span>94×6 DataFrame</span></div><div style = \"float: right;\"><span style = \"font-style: italic;\">69 rows omitted</span></div><div style = \"clear: both;\"></div></div><div class = \"data-frame\" style = \"overflow-x: scroll;\"><table class = \"data-frame\" style = \"margin-bottom: 6px;\"><thead><tr class = \"header\"><th class = \"rowNumber\" style = \"font-weight: bold; text-align: right;\">Row</th><th style = \"text-align: left;\">Sample Name</th><th style = \"text-align: left;\">Treatment</th><th style = \"text-align: left;\">Tr</th><th style = \"text-align: left;\">Observed</th><th style = \"text-align: left;\">Chao1</th><th style = \"text-align: left;\">Shannon</th></tr><tr class = \"subheader headerLastRow\"><th class = \"rowNumber\" style = \"font-weight: bold; text-align: right;\"></th><th title = \"String15\" style = \"text-align: left;\">String15</th><th title = \"String15\" style = \"text-align: left;\">String15</th><th title = \"String15\" style = \"text-align: left;\">String15</th><th title = \"Int64\" style = \"text-align: left;\">Int64</th><th title = \"Float64\" style = \"text-align: left;\">Float64</th><th title = \"Float64\" style = \"text-align: left;\">Float64</th></tr></thead><tbody><tr><td class = \"rowNumber\" style = \"font-weight: bold; text-align: right;\">1</td><td style = \"text-align: left;\">FRDC_1</td><td style = \"text-align: left;\">no treatment</td><td style = \"text-align: left;\">baseline</td><td style = \"text-align: right;\">41</td><td style = \"text-align: right;\">41.0</td><td style = \"text-align: right;\">2.77799</td></tr><tr><td class = \"rowNumber\" style = \"font-weight: bold; text-align: right;\">2</td><td style = \"text-align: left;\">FRDC_2</td><td style = \"text-align: left;\">no treatment</td><td style = \"text-align: left;\">baseline</td><td style = \"text-align: right;\">106</td><td style = \"text-align: right;\">106.0</td><td style = \"text-align: right;\">3.82894</td></tr><tr><td class = \"rowNumber\" style = \"font-weight: bold; text-align: right;\">3</td><td style = \"text-align: left;\">FRDC_5</td><td style = \"text-align: left;\">no treatment</td><td style = \"text-align: left;\">baseline</td><td style = \"text-align: right;\">75</td><td style = \"text-align: right;\">75.0</td><td style = \"text-align: right;\">2.06959</td></tr><tr><td class = \"rowNumber\" style = \"font-weight: bold; text-align: right;\">4</td><td style = \"text-align: left;\">FRDC_6</td><td style = \"text-align: left;\">no treatment</td><td style = \"text-align: left;\">baseline</td><td style = \"text-align: right;\">125</td><td style = \"text-align: right;\">125.0</td><td style = \"text-align: right;\">3.67613</td></tr><tr><td class = \"rowNumber\" style = \"font-weight: bold; text-align: right;\">5</td><td style = \"text-align: left;\">FRDC_7</td><td style = \"text-align: left;\">no treatment</td><td style = \"text-align: left;\">baseline</td><td style = \"text-align: right;\">73</td><td style = \"text-align: right;\">73.0</td><td style = \"text-align: right;\">2.27812</td></tr><tr><td class = \"rowNumber\" style = \"font-weight: bold; text-align: right;\">6</td><td style = \"text-align: left;\">FRDC_8</td><td style = \"text-align: left;\">no treatment</td><td style = \"text-align: left;\">baseline</td><td style = \"text-align: right;\">99</td><td style = \"text-align: right;\">99.0</td><td style = \"text-align: right;\">2.6029</td></tr><tr><td class = \"rowNumber\" style = \"font-weight: bold; text-align: right;\">7</td><td style = \"text-align: left;\">FRDC_19</td><td style = \"text-align: left;\">no treatment</td><td style = \"text-align: left;\">baseline</td><td style = \"text-align: right;\">108</td><td style = \"text-align: right;\">108.0</td><td style = \"text-align: right;\">2.85988</td></tr><tr><td class = \"rowNumber\" style = \"font-weight: bold; text-align: right;\">8</td><td style = \"text-align: left;\">FRDC_20</td><td style = \"text-align: left;\">no treatment</td><td style = \"text-align: left;\">baseline</td><td style = \"text-align: right;\">80</td><td style = \"text-align: right;\">80.0</td><td style = \"text-align: right;\">3.41181</td></tr><tr><td class = \"rowNumber\" style = \"font-weight: bold; text-align: right;\">9</td><td style = \"text-align: left;\">FRDC_21</td><td style = \"text-align: left;\">no treatment</td><td style = \"text-align: left;\">baseline</td><td style = \"text-align: right;\">104</td><td style = \"text-align: right;\">104.0</td><td style = \"text-align: right;\">3.37704</td></tr><tr><td class = \"rowNumber\" style = \"font-weight: bold; text-align: right;\">10</td><td style = \"text-align: left;\">FRDC_22</td><td style = \"text-align: left;\">no treatment</td><td style = \"text-align: left;\">baseline</td><td style = \"text-align: right;\">108</td><td style = \"text-align: right;\">108.0</td><td style = \"text-align: right;\">3.02553</td></tr><tr><td class = \"rowNumber\" style = \"font-weight: bold; text-align: right;\">11</td><td style = \"text-align: left;\">FRDC_30</td><td style = \"text-align: left;\">no treatment</td><td style = \"text-align: left;\">baseline</td><td style = \"text-align: right;\">221</td><td style = \"text-align: right;\">221.0</td><td style = \"text-align: right;\">3.39973</td></tr><tr><td class = \"rowNumber\" style = \"font-weight: bold; text-align: right;\">12</td><td style = \"text-align: left;\">FRDC_31</td><td style = \"text-align: left;\">no treatment</td><td style = \"text-align: left;\">baseline</td><td style = \"text-align: right;\">236</td><td style = \"text-align: right;\">236.0</td><td style = \"text-align: right;\">4.02001</td></tr><tr><td class = \"rowNumber\" style = \"font-weight: bold; text-align: right;\">13</td><td style = \"text-align: left;\">FRDC_32</td><td style = \"text-align: left;\">no treatment</td><td style = \"text-align: left;\">baseline</td><td style = \"text-align: right;\">115</td><td style = \"text-align: right;\">115.0</td><td style = \"text-align: right;\">3.50959</td></tr><tr><td style = \"text-align: right;\">&vellip;</td><td style = \"text-align: right;\">&vellip;</td><td style = \"text-align: right;\">&vellip;</td><td style = \"text-align: right;\">&vellip;</td><td style = \"text-align: right;\">&vellip;</td><td style = \"text-align: right;\">&vellip;</td><td style = \"text-align: right;\">&vellip;</td></tr><tr><td class = \"rowNumber\" style = \"font-weight: bold; text-align: right;\">83</td><td style = \"text-align: left;\">FRDC_130</td><td style = \"text-align: left;\">S. algae</td><td style = \"text-align: left;\">21dph</td><td style = \"text-align: right;\">47</td><td style = \"text-align: right;\">47.0</td><td style = \"text-align: right;\">2.57196</td></tr><tr><td class = \"rowNumber\" style = \"font-weight: bold; text-align: right;\">84</td><td style = \"text-align: left;\">FRDC_131</td><td style = \"text-align: left;\">S. algae</td><td style = \"text-align: left;\">21dph</td><td style = \"text-align: right;\">90</td><td style = \"text-align: right;\">90.0</td><td style = \"text-align: right;\">3.33064</td></tr><tr><td class = \"rowNumber\" style = \"font-weight: bold; text-align: right;\">85</td><td style = \"text-align: left;\">FRDC_132</td><td style = \"text-align: left;\">S. algae</td><td style = \"text-align: left;\">21dph</td><td style = \"text-align: right;\">115</td><td style = \"text-align: right;\">115.0</td><td style = \"text-align: right;\">3.64013</td></tr><tr><td class = \"rowNumber\" style = \"font-weight: bold; text-align: right;\">86</td><td style = \"text-align: left;\">FRDC_133</td><td style = \"text-align: left;\">S. algae</td><td style = \"text-align: left;\">21dph</td><td style = \"text-align: right;\">44</td><td style = \"text-align: right;\">44.0</td><td style = \"text-align: right;\">2.73914</td></tr><tr><td class = \"rowNumber\" style = \"font-weight: bold; text-align: right;\">87</td><td style = \"text-align: left;\">FRDC_134</td><td style = \"text-align: left;\">S. algae</td><td style = \"text-align: left;\">21dph</td><td style = \"text-align: right;\">61</td><td style = \"text-align: right;\">61.0</td><td style = \"text-align: right;\">3.13702</td></tr><tr><td class = \"rowNumber\" style = \"font-weight: bold; text-align: right;\">88</td><td style = \"text-align: left;\">FRDC_135</td><td style = \"text-align: left;\">S. algae</td><td style = \"text-align: left;\">21dph</td><td style = \"text-align: right;\">55</td><td style = \"text-align: right;\">55.0</td><td style = \"text-align: right;\">3.09978</td></tr><tr><td class = \"rowNumber\" style = \"font-weight: bold; text-align: right;\">89</td><td style = \"text-align: left;\">FRDC_136</td><td style = \"text-align: left;\">V. scophthalmi</td><td style = \"text-align: left;\">21dph</td><td style = \"text-align: right;\">64</td><td style = \"text-align: right;\">64.0</td><td style = \"text-align: right;\">2.84635</td></tr><tr><td class = \"rowNumber\" style = \"font-weight: bold; text-align: right;\">90</td><td style = \"text-align: left;\">FRDC_137</td><td style = \"text-align: left;\">V. scophthalmi</td><td style = \"text-align: left;\">21dph</td><td style = \"text-align: right;\">66</td><td style = \"text-align: right;\">66.0</td><td style = \"text-align: right;\">2.31997</td></tr><tr><td class = \"rowNumber\" style = \"font-weight: bold; text-align: right;\">91</td><td style = \"text-align: left;\">FRDC_138</td><td style = \"text-align: left;\">V. scophthalmi</td><td style = \"text-align: left;\">21dph</td><td style = \"text-align: right;\">48</td><td style = \"text-align: right;\">48.0</td><td style = \"text-align: right;\">2.20379</td></tr><tr><td class = \"rowNumber\" style = \"font-weight: bold; text-align: right;\">92</td><td style = \"text-align: left;\">FRDC_139</td><td style = \"text-align: left;\">V. scophthalmi</td><td style = \"text-align: left;\">21dph</td><td style = \"text-align: right;\">39</td><td style = \"text-align: right;\">39.0</td><td style = \"text-align: right;\">2.20375</td></tr><tr><td class = \"rowNumber\" style = \"font-weight: bold; text-align: right;\">93</td><td style = \"text-align: left;\">FRDC_140</td><td style = \"text-align: left;\">V. scophthalmi</td><td style = \"text-align: left;\">21dph</td><td style = \"text-align: right;\">55</td><td style = \"text-align: right;\">55.0</td><td style = \"text-align: right;\">3.09027</td></tr><tr><td class = \"rowNumber\" style = \"font-weight: bold; text-align: right;\">94</td><td style = \"text-align: left;\">FRDC_141</td><td style = \"text-align: left;\">V. scophthalmi</td><td style = \"text-align: left;\">21dph</td><td style = \"text-align: right;\">75</td><td style = \"text-align: right;\">75.0</td><td style = \"text-align: right;\">3.29573</td></tr></tbody></table></div>"
      ],
      "text/latex": [
       "\\begin{tabular}{r|cccccc}\n",
       "\t& Sample Name & Treatment & Tr & Observed & Chao1 & Shannon\\\\\n",
       "\t\\hline\n",
       "\t& String15 & String15 & String15 & Int64 & Float64 & Float64\\\\\n",
       "\t\\hline\n",
       "\t1 & FRDC\\_1 & no treatment & baseline & 41 & 41.0 & 2.77799 \\\\\n",
       "\t2 & FRDC\\_2 & no treatment & baseline & 106 & 106.0 & 3.82894 \\\\\n",
       "\t3 & FRDC\\_5 & no treatment & baseline & 75 & 75.0 & 2.06959 \\\\\n",
       "\t4 & FRDC\\_6 & no treatment & baseline & 125 & 125.0 & 3.67613 \\\\\n",
       "\t5 & FRDC\\_7 & no treatment & baseline & 73 & 73.0 & 2.27812 \\\\\n",
       "\t6 & FRDC\\_8 & no treatment & baseline & 99 & 99.0 & 2.6029 \\\\\n",
       "\t7 & FRDC\\_19 & no treatment & baseline & 108 & 108.0 & 2.85988 \\\\\n",
       "\t8 & FRDC\\_20 & no treatment & baseline & 80 & 80.0 & 3.41181 \\\\\n",
       "\t9 & FRDC\\_21 & no treatment & baseline & 104 & 104.0 & 3.37704 \\\\\n",
       "\t10 & FRDC\\_22 & no treatment & baseline & 108 & 108.0 & 3.02553 \\\\\n",
       "\t11 & FRDC\\_30 & no treatment & baseline & 221 & 221.0 & 3.39973 \\\\\n",
       "\t12 & FRDC\\_31 & no treatment & baseline & 236 & 236.0 & 4.02001 \\\\\n",
       "\t13 & FRDC\\_32 & no treatment & baseline & 115 & 115.0 & 3.50959 \\\\\n",
       "\t14 & FRDC\\_33 & no treatment & baseline & 105 & 105.0 & 3.30321 \\\\\n",
       "\t15 & FRDC\\_27 & no treatment & baseline & 103 & 103.0 & 2.86792 \\\\\n",
       "\t16 & FRDC\\_28 & no treatment & baseline & 150 & 150.0 & 3.40063 \\\\\n",
       "\t17 & FRDC\\_29 & no treatment & baseline & 112 & 112.0 & 3.10785 \\\\\n",
       "\t18 & FRDC\\_9 & no treatment & baseline & 128 & 128.0 & 2.65787 \\\\\n",
       "\t19 & FRDC\\_10 & no treatment & baseline & 139 & 139.2 & 2.45421 \\\\\n",
       "\t20 & FRDC\\_11 & no treatment & baseline & 135 & 135.0 & 2.73998 \\\\\n",
       "\t21 & FRDC\\_16 & no treatment & baseline & 145 & 145.125 & 2.90384 \\\\\n",
       "\t22 & FRDC\\_17 & no treatment & baseline & 109 & 109.0 & 2.82459 \\\\\n",
       "\t23 & FRDC\\_18 & no treatment & baseline & 136 & 136.0 & 2.79254 \\\\\n",
       "\t24 & FRDC\\_34 & Control  & baseline & 25 & 25.0 & 1.57363 \\\\\n",
       "\t25 & FRDC\\_35 & S. algae & baseline & 17 & 17.0 & 1.72115 \\\\\n",
       "\t26 & FRDC\\_36 & P. spongiae & baseline & 19 & 19.0 & 1.59288 \\\\\n",
       "\t27 & FRDC\\_37 & V. scophthalmi & baseline & 15 & 15.0 & 1.66312 \\\\\n",
       "\t28 & FRDC\\_50 & Control  & baseline & 12 & 12.0 & 0.986515 \\\\\n",
       "\t29 & FRDC\\_51 & S. algae & baseline & 18 & 18.0 & 1.89062 \\\\\n",
       "\t30 & FRDC\\_52 & P. spongiae & baseline & 21 & 21.0 & 1.81607 \\\\\n",
       "\t$\\dots$ & $\\dots$ & $\\dots$ & $\\dots$ & $\\dots$ & $\\dots$ & $\\dots$ \\\\\n",
       "\\end{tabular}\n"
      ],
      "text/plain": [
       "\u001b[1m94×6 DataFrame\u001b[0m\n",
       "\u001b[1m Row \u001b[0m│\u001b[1m Sample Name \u001b[0m\u001b[1m Treatment      \u001b[0m\u001b[1m Tr       \u001b[0m\u001b[1m Observed \u001b[0m\u001b[1m Chao1   \u001b[0m\u001b[1m Shannon \u001b[0m\n",
       "     │\u001b[90m String15    \u001b[0m\u001b[90m String15       \u001b[0m\u001b[90m String15 \u001b[0m\u001b[90m Int64    \u001b[0m\u001b[90m Float64 \u001b[0m\u001b[90m Float64 \u001b[0m\n",
       "─────┼───────────────────────────────────────────────────────────────────\n",
       "   1 │ FRDC_1       no treatment    baseline        41     41.0  2.77799\n",
       "   2 │ FRDC_2       no treatment    baseline       106    106.0  3.82894\n",
       "   3 │ FRDC_5       no treatment    baseline        75     75.0  2.06959\n",
       "   4 │ FRDC_6       no treatment    baseline       125    125.0  3.67613\n",
       "   5 │ FRDC_7       no treatment    baseline        73     73.0  2.27812\n",
       "   6 │ FRDC_8       no treatment    baseline        99     99.0  2.6029\n",
       "   7 │ FRDC_19      no treatment    baseline       108    108.0  2.85988\n",
       "   8 │ FRDC_20      no treatment    baseline        80     80.0  3.41181\n",
       "   9 │ FRDC_21      no treatment    baseline       104    104.0  3.37704\n",
       "  10 │ FRDC_22      no treatment    baseline       108    108.0  3.02553\n",
       "  11 │ FRDC_30      no treatment    baseline       221    221.0  3.39973\n",
       "  ⋮  │      ⋮             ⋮            ⋮         ⋮         ⋮        ⋮\n",
       "  85 │ FRDC_132     S. algae        21dph          115    115.0  3.64013\n",
       "  86 │ FRDC_133     S. algae        21dph           44     44.0  2.73914\n",
       "  87 │ FRDC_134     S. algae        21dph           61     61.0  3.13702\n",
       "  88 │ FRDC_135     S. algae        21dph           55     55.0  3.09978\n",
       "  89 │ FRDC_136     V. scophthalmi  21dph           64     64.0  2.84635\n",
       "  90 │ FRDC_137     V. scophthalmi  21dph           66     66.0  2.31997\n",
       "  91 │ FRDC_138     V. scophthalmi  21dph           48     48.0  2.20379\n",
       "  92 │ FRDC_139     V. scophthalmi  21dph           39     39.0  2.20375\n",
       "  93 │ FRDC_140     V. scophthalmi  21dph           55     55.0  3.09027\n",
       "  94 │ FRDC_141     V. scophthalmi  21dph           75     75.0  3.29573\n",
       "\u001b[36m                                                          73 rows omitted\u001b[0m"
      ]
     },
     "execution_count": 128,
     "metadata": {},
     "output_type": "execute_result"
    }
   ],
   "source": [
    "df = CSV.File(\"diversity2.csv\") |> DataFrame "
   ]
  },
  {
   "cell_type": "code",
   "execution_count": 76,
   "id": "5524fa16-97b3-44ad-8b8f-2f9d60cd56bb",
   "metadata": {
    "execution": {
     "iopub.execute_input": "2023-06-27T11:08:07.390000+08:00",
     "iopub.status.busy": "2023-06-27T11:08:07.389000+08:00",
     "iopub.status.idle": "2023-06-27T11:08:08.278000+08:00",
     "shell.execute_reply": "2023-06-27T11:08:08.277000+08:00"
    },
    "tags": []
   },
   "outputs": [
    {
     "data": {
      "text/plain": [
       "4-element Vector{String15}:\n",
       " \"baseline\"\n",
       " \"13dph\"\n",
       " \"16dph\"\n",
       " \"21dph\""
      ]
     },
     "execution_count": 76,
     "metadata": {},
     "output_type": "execute_result"
    }
   ],
   "source": [
    "unique(df.Tr)"
   ]
  },
  {
   "cell_type": "code",
   "execution_count": 77,
   "id": "c7a16c76-4d8b-4535-b097-3747c0d71c82",
   "metadata": {
    "execution": {
     "iopub.execute_input": "2023-06-27T11:08:10.428000+08:00",
     "iopub.status.busy": "2023-06-27T11:08:10.428000+08:00",
     "iopub.status.idle": "2023-06-27T11:08:11.587000+08:00",
     "shell.execute_reply": "2023-06-27T11:08:11.587000+08:00"
    },
    "tags": []
   },
   "outputs": [],
   "source": [
    "gdfs = groupby(df, :Tr);"
   ]
  },
  {
   "cell_type": "code",
   "execution_count": 78,
   "id": "035ab8b9-91f5-48b5-a4a9-5bb14bc6c42e",
   "metadata": {
    "execution": {
     "iopub.execute_input": "2023-06-27T11:08:12.194000+08:00",
     "iopub.status.busy": "2023-06-27T11:08:12.194000+08:00",
     "iopub.status.idle": "2023-06-27T11:08:12.273000+08:00",
     "shell.execute_reply": "2023-06-27T11:08:12.264000+08:00"
    },
    "tags": []
   },
   "outputs": [
    {
     "data": {
      "text/plain": [
       "5-element Vector{String15}:\n",
       " \"no treatment\"\n",
       " \"Control \"\n",
       " \"S. algae\"\n",
       " \"P. spongiae\"\n",
       " \"V. scophthalmi\""
      ]
     },
     "execution_count": 78,
     "metadata": {},
     "output_type": "execute_result"
    }
   ],
   "source": [
    "gdfs[1][:, :Treatment] |> unique"
   ]
  },
  {
   "cell_type": "markdown",
   "id": "67ec818e-e190-4f0a-8c1a-1e7f67c9595b",
   "metadata": {},
   "source": [
    "Wilcoxon rank-sum test is used to compare two independent samples,    \n",
    "while Wilcoxon signed-rank test is used to compare two related samples, matched samples, or to conduct a paired difference test of repeated measurements on a single sample to assess whether their population mean ranks differ."
   ]
  },
  {
   "cell_type": "code",
   "execution_count": 122,
   "id": "99d4f0fe-dffb-44c2-94b7-f4fe2524d96e",
   "metadata": {
    "execution": {
     "iopub.execute_input": "2023-06-27T11:57:41.406000+08:00",
     "iopub.status.busy": "2023-06-27T11:57:41.405000+08:00",
     "iopub.status.idle": "2023-06-27T11:57:41.830000+08:00",
     "shell.execute_reply": "2023-06-27T11:57:41.830000+08:00"
    },
    "tags": []
   },
   "outputs": [
    {
     "data": {
      "text/plain": [
       "wktest (generic function with 1 method)"
      ]
     },
     "execution_count": 122,
     "metadata": {},
     "output_type": "execute_result"
    }
   ],
   "source": [
    "function wktest(df, treatment1, treatment2, alpha_type)\n",
    "    a = filter(:Treatment => x -> x == treatment1, df)\n",
    "    b = filter(:Treatment => x -> x == treatment2, df)\n",
    "    #@show alpha_type; @show a[:, alpha_type]; @show b[:, alpha_type] \n",
    "    \n",
    "    wt = MannWhitneyUTest(a[:, alpha_type], b[:, alpha_type]) #The Mann-Whitney U test is sometimes known as the Wilcoxon rank-sum test.\n",
    "    #kt = KruskalWallisTest(a[:, alpha_type], b[:, alpha_type]) #The Kruskal-Wallis test is an extension of the Mann-Whitney U test to more than two groups.\n",
    "    #@show wt; @show kt\n",
    "    return wt #pvalue(kt)\n",
    "end"
   ]
  },
  {
   "cell_type": "code",
   "execution_count": 127,
   "id": "4082eed2-24cd-46ba-af1f-0280064df2ff",
   "metadata": {
    "execution": {
     "iopub.execute_input": "2023-06-27T11:58:32.987000+08:00",
     "iopub.status.busy": "2023-06-27T11:58:32.987000+08:00",
     "iopub.status.idle": "2023-06-27T11:58:33.172000+08:00",
     "shell.execute_reply": "2023-06-27T11:58:33.172000+08:00"
    },
    "tags": []
   },
   "outputs": [
    {
     "data": {
      "text/plain": [
       "3-element Vector{StatsAPI.HypothesisTest}:\n",
       " Approximate Mann-Whitney U test\n",
       "-------------------------------\n",
       "Population details:\n",
       "    parameter of interest:   Location parameter (pseudomedian)\n",
       "    value under h_0:         0\n",
       "    point estimate:          -84.0\n",
       "\n",
       "Test summary:\n",
       "    outcome with 95% confidence: reject h_0\n",
       "    two-sided p-value:           0.0081\n",
       "\n",
       "Details:\n",
       "    number of observations in each group: [3, 23]\n",
       "    Mann-Whitney-U statistic:             1.0\n",
       "    rank sums:                            [7.0, 344.0]\n",
       "    adjustment for ties:                  6.0\n",
       "    normal approximation (μ, σ):          (-33.5, 12.4578)\n",
       "\n",
       " Approximate Mann-Whitney U test\n",
       "-------------------------------\n",
       "Population details:\n",
       "    parameter of interest:   Location parameter (pseudomedian)\n",
       "    value under h_0:         0\n",
       "    point estimate:          -84.0\n",
       "\n",
       "Test summary:\n",
       "    outcome with 95% confidence: reject h_0\n",
       "    two-sided p-value:           0.0081\n",
       "\n",
       "Details:\n",
       "    number of observations in each group: [3, 23]\n",
       "    Mann-Whitney-U statistic:             1.0\n",
       "    rank sums:                            [7.0, 344.0]\n",
       "    adjustment for ties:                  6.0\n",
       "    normal approximation (μ, σ):          (-33.5, 12.4578)\n",
       "\n",
       " Exact Mann-Whitney U test\n",
       "-------------------------\n",
       "Population details:\n",
       "    parameter of interest:   Location parameter (pseudomedian)\n",
       "    value under h_0:         0\n",
       "    point estimate:          -1.33022\n",
       "\n",
       "Test summary:\n",
       "    outcome with 95% confidence: reject h_0\n",
       "    two-sided p-value:           0.0177\n",
       "\n",
       "Details:\n",
       "    number of observations in each group: [3, 23]\n",
       "    Mann-Whitney-U statistic:             6.0\n",
       "    rank sums:                            [12.0, 339.0]\n",
       "    adjustment for ties:                  0.0\n"
      ]
     },
     "execution_count": 127,
     "metadata": {},
     "output_type": "execute_result"
    }
   ],
   "source": [
    "alpha_types = [\"Observed\", \"Chao1\", \"Shannon\"]\n",
    "[wktest(gdfs[1], \"Control \", \"no treatment\", x) for x in alpha_types] \n",
    "# [wktest(gdfs[1], \"Control \", \"S. algae\", x) for x in alpha_types]\n",
    "# [wktest(gdfs[1], \"Control \", \"P. spongiae\", x) for x in alpha_types]\n",
    "# [wktest(gdfs[1], \"Control \", \"V. scophthalmi\", x) for x in alpha_types]"
   ]
  },
  {
   "cell_type": "code",
   "execution_count": 132,
   "id": "9637e988-2bd7-474d-a858-6bc027a6a74e",
   "metadata": {
    "execution": {
     "iopub.execute_input": "2023-06-27T12:00:54.591000+08:00",
     "iopub.status.busy": "2023-06-27T12:00:54.591000+08:00",
     "iopub.status.idle": "2023-06-27T12:00:54.738000+08:00",
     "shell.execute_reply": "2023-06-27T12:00:54.737000+08:00"
    },
    "tags": []
   },
   "outputs": [
    {
     "data": {
      "text/plain": [
       "3-element Vector{StatsAPI.HypothesisTest}:\n",
       " Approximate Mann-Whitney U test\n",
       "-------------------------------\n",
       "Population details:\n",
       "    parameter of interest:   Location parameter (pseudomedian)\n",
       "    value under h_0:         0\n",
       "    point estimate:          28.0\n",
       "\n",
       "Test summary:\n",
       "    outcome with 95% confidence: fail to reject h_0\n",
       "    two-sided p-value:           0.3751\n",
       "\n",
       "Details:\n",
       "    number of observations in each group: [6, 6]\n",
       "    Mann-Whitney-U statistic:             24.0\n",
       "    rank sums:                            [45.0, 33.0]\n",
       "    adjustment for ties:                  24.0\n",
       "    normal approximation (μ, σ):          (6.0, 6.20117)\n",
       "\n",
       " Approximate Mann-Whitney U test\n",
       "-------------------------------\n",
       "Population details:\n",
       "    parameter of interest:   Location parameter (pseudomedian)\n",
       "    value under h_0:         0\n",
       "    point estimate:          28.0\n",
       "\n",
       "Test summary:\n",
       "    outcome with 95% confidence: fail to reject h_0\n",
       "    two-sided p-value:           0.3751\n",
       "\n",
       "Details:\n",
       "    number of observations in each group: [6, 6]\n",
       "    Mann-Whitney-U statistic:             24.0\n",
       "    rank sums:                            [45.0, 33.0]\n",
       "    adjustment for ties:                  24.0\n",
       "    normal approximation (μ, σ):          (6.0, 6.20117)\n",
       "\n",
       " Exact Mann-Whitney U test\n",
       "-------------------------\n",
       "Population details:\n",
       "    parameter of interest:   Location parameter (pseudomedian)\n",
       "    value under h_0:         0\n",
       "    point estimate:          -0.0574088\n",
       "\n",
       "Test summary:\n",
       "    outcome with 95% confidence: fail to reject h_0\n",
       "    two-sided p-value:           0.8182\n",
       "\n",
       "Details:\n",
       "    number of observations in each group: [6, 6]\n",
       "    Mann-Whitney-U statistic:             16.0\n",
       "    rank sums:                            [37.0, 41.0]\n",
       "    adjustment for ties:                  0.0\n"
      ]
     },
     "execution_count": 132,
     "metadata": {},
     "output_type": "execute_result"
    }
   ],
   "source": [
    "#[wktest(gdfs[2], \"Control \", \"S. algae\", x) for x in alpha_types]\n",
    "#[wktest(gdfs[2], \"Control \", \"P. spongiae\", x) for x in alpha_types]\n",
    "[wktest(gdfs[2], \"Control \", \"V. scophthalmi\", x) for x in alpha_types]"
   ]
  },
  {
   "cell_type": "code",
   "execution_count": 139,
   "id": "a534660f-cc31-4e36-9e17-5b0666b79c2f",
   "metadata": {
    "execution": {
     "iopub.execute_input": "2023-06-27T12:03:37.237000+08:00",
     "iopub.status.busy": "2023-06-27T12:03:37.237000+08:00",
     "iopub.status.idle": "2023-06-27T12:03:37.247000+08:00",
     "shell.execute_reply": "2023-06-27T12:03:37.244000+08:00"
    },
    "tags": []
   },
   "outputs": [
    {
     "data": {
      "text/html": [
       "<div><div style = \"float: left;\"><span>12×6 SubDataFrame</span></div><div style = \"clear: both;\"></div></div><div class = \"data-frame\" style = \"overflow-x: scroll;\"><table class = \"data-frame\" style = \"margin-bottom: 6px;\"><thead><tr class = \"header\"><th class = \"rowNumber\" style = \"font-weight: bold; text-align: right;\">Row</th><th style = \"text-align: left;\">Sample Name</th><th style = \"text-align: left;\">Treatment</th><th style = \"text-align: left;\">Tr</th><th style = \"text-align: left;\">Observed</th><th style = \"text-align: left;\">Chao1</th><th style = \"text-align: left;\">Shannon</th></tr><tr class = \"subheader headerLastRow\"><th class = \"rowNumber\" style = \"font-weight: bold; text-align: right;\"></th><th title = \"String15\" style = \"text-align: left;\">String15</th><th title = \"String15\" style = \"text-align: left;\">String15</th><th title = \"String15\" style = \"text-align: left;\">String15</th><th title = \"Int64\" style = \"text-align: left;\">Int64</th><th title = \"Float64\" style = \"text-align: left;\">Float64</th><th title = \"Float64\" style = \"text-align: left;\">Float64</th></tr></thead><tbody><tr><td class = \"rowNumber\" style = \"font-weight: bold; text-align: right;\">1</td><td style = \"text-align: left;\">FRDC_78</td><td style = \"text-align: left;\">Control </td><td style = \"text-align: left;\">16dph</td><td style = \"text-align: right;\">77</td><td style = \"text-align: right;\">77.0</td><td style = \"text-align: right;\">3.0162</td></tr><tr><td class = \"rowNumber\" style = \"font-weight: bold; text-align: right;\">2</td><td style = \"text-align: left;\">FRDC_79</td><td style = \"text-align: left;\">Control </td><td style = \"text-align: left;\">16dph</td><td style = \"text-align: right;\">40</td><td style = \"text-align: right;\">40.0</td><td style = \"text-align: right;\">2.43655</td></tr><tr><td class = \"rowNumber\" style = \"font-weight: bold; text-align: right;\">3</td><td style = \"text-align: left;\">FRDC_80</td><td style = \"text-align: left;\">Control </td><td style = \"text-align: left;\">16dph</td><td style = \"text-align: right;\">53</td><td style = \"text-align: right;\">53.0</td><td style = \"text-align: right;\">2.69993</td></tr><tr><td class = \"rowNumber\" style = \"font-weight: bold; text-align: right;\">4</td><td style = \"text-align: left;\">FRDC_81</td><td style = \"text-align: left;\">P. spongiae</td><td style = \"text-align: left;\">16dph</td><td style = \"text-align: right;\">50</td><td style = \"text-align: right;\">50.0</td><td style = \"text-align: right;\">3.19059</td></tr><tr><td class = \"rowNumber\" style = \"font-weight: bold; text-align: right;\">5</td><td style = \"text-align: left;\">FRDC_82</td><td style = \"text-align: left;\">P. spongiae</td><td style = \"text-align: left;\">16dph</td><td style = \"text-align: right;\">64</td><td style = \"text-align: right;\">64.0</td><td style = \"text-align: right;\">3.07969</td></tr><tr><td class = \"rowNumber\" style = \"font-weight: bold; text-align: right;\">6</td><td style = \"text-align: left;\">FRDC_83</td><td style = \"text-align: left;\">P. spongiae</td><td style = \"text-align: left;\">16dph</td><td style = \"text-align: right;\">56</td><td style = \"text-align: right;\">56.0</td><td style = \"text-align: right;\">2.386</td></tr><tr><td class = \"rowNumber\" style = \"font-weight: bold; text-align: right;\">7</td><td style = \"text-align: left;\">FRDC_84</td><td style = \"text-align: left;\">S. algae</td><td style = \"text-align: left;\">16dph</td><td style = \"text-align: right;\">46</td><td style = \"text-align: right;\">46.0</td><td style = \"text-align: right;\">2.78636</td></tr><tr><td class = \"rowNumber\" style = \"font-weight: bold; text-align: right;\">8</td><td style = \"text-align: left;\">FRDC_85</td><td style = \"text-align: left;\">S. algae</td><td style = \"text-align: left;\">16dph</td><td style = \"text-align: right;\">68</td><td style = \"text-align: right;\">68.0</td><td style = \"text-align: right;\">2.8076</td></tr><tr><td class = \"rowNumber\" style = \"font-weight: bold; text-align: right;\">9</td><td style = \"text-align: left;\">FRDC_86</td><td style = \"text-align: left;\">S. algae</td><td style = \"text-align: left;\">16dph</td><td style = \"text-align: right;\">60</td><td style = \"text-align: right;\">60.0</td><td style = \"text-align: right;\">2.29435</td></tr><tr><td class = \"rowNumber\" style = \"font-weight: bold; text-align: right;\">10</td><td style = \"text-align: left;\">FRDC_87</td><td style = \"text-align: left;\">V. scophthalmi</td><td style = \"text-align: left;\">16dph</td><td style = \"text-align: right;\">46</td><td style = \"text-align: right;\">46.0</td><td style = \"text-align: right;\">2.45491</td></tr><tr><td class = \"rowNumber\" style = \"font-weight: bold; text-align: right;\">11</td><td style = \"text-align: left;\">FRDC_88</td><td style = \"text-align: left;\">V. scophthalmi</td><td style = \"text-align: left;\">16dph</td><td style = \"text-align: right;\">81</td><td style = \"text-align: right;\">81.0</td><td style = \"text-align: right;\">3.0016</td></tr><tr><td class = \"rowNumber\" style = \"font-weight: bold; text-align: right;\">12</td><td style = \"text-align: left;\">FRDC_89</td><td style = \"text-align: left;\">V. scophthalmi</td><td style = \"text-align: left;\">16dph</td><td style = \"text-align: right;\">44</td><td style = \"text-align: right;\">44.0</td><td style = \"text-align: right;\">2.60351</td></tr></tbody></table></div>"
      ],
      "text/latex": [
       "\\begin{tabular}{r|cccccc}\n",
       "\t& Sample Name & Treatment & Tr & Observed & Chao1 & Shannon\\\\\n",
       "\t\\hline\n",
       "\t& String15 & String15 & String15 & Int64 & Float64 & Float64\\\\\n",
       "\t\\hline\n",
       "\t1 & FRDC\\_78 & Control  & 16dph & 77 & 77.0 & 3.0162 \\\\\n",
       "\t2 & FRDC\\_79 & Control  & 16dph & 40 & 40.0 & 2.43655 \\\\\n",
       "\t3 & FRDC\\_80 & Control  & 16dph & 53 & 53.0 & 2.69993 \\\\\n",
       "\t4 & FRDC\\_81 & P. spongiae & 16dph & 50 & 50.0 & 3.19059 \\\\\n",
       "\t5 & FRDC\\_82 & P. spongiae & 16dph & 64 & 64.0 & 3.07969 \\\\\n",
       "\t6 & FRDC\\_83 & P. spongiae & 16dph & 56 & 56.0 & 2.386 \\\\\n",
       "\t7 & FRDC\\_84 & S. algae & 16dph & 46 & 46.0 & 2.78636 \\\\\n",
       "\t8 & FRDC\\_85 & S. algae & 16dph & 68 & 68.0 & 2.8076 \\\\\n",
       "\t9 & FRDC\\_86 & S. algae & 16dph & 60 & 60.0 & 2.29435 \\\\\n",
       "\t10 & FRDC\\_87 & V. scophthalmi & 16dph & 46 & 46.0 & 2.45491 \\\\\n",
       "\t11 & FRDC\\_88 & V. scophthalmi & 16dph & 81 & 81.0 & 3.0016 \\\\\n",
       "\t12 & FRDC\\_89 & V. scophthalmi & 16dph & 44 & 44.0 & 2.60351 \\\\\n",
       "\\end{tabular}\n"
      ],
      "text/plain": [
       "\u001b[1m12×6 SubDataFrame\u001b[0m\n",
       "\u001b[1m Row \u001b[0m│\u001b[1m Sample Name \u001b[0m\u001b[1m Treatment      \u001b[0m\u001b[1m Tr       \u001b[0m\u001b[1m Observed \u001b[0m\u001b[1m Chao1   \u001b[0m\u001b[1m Shannon \u001b[0m\n",
       "     │\u001b[90m String15    \u001b[0m\u001b[90m String15       \u001b[0m\u001b[90m String15 \u001b[0m\u001b[90m Int64    \u001b[0m\u001b[90m Float64 \u001b[0m\u001b[90m Float64 \u001b[0m\n",
       "─────┼───────────────────────────────────────────────────────────────────\n",
       "   1 │ FRDC_78      Control         16dph           77     77.0  3.0162\n",
       "   2 │ FRDC_79      Control         16dph           40     40.0  2.43655\n",
       "   3 │ FRDC_80      Control         16dph           53     53.0  2.69993\n",
       "   4 │ FRDC_81      P. spongiae     16dph           50     50.0  3.19059\n",
       "   5 │ FRDC_82      P. spongiae     16dph           64     64.0  3.07969\n",
       "   6 │ FRDC_83      P. spongiae     16dph           56     56.0  2.386\n",
       "   7 │ FRDC_84      S. algae        16dph           46     46.0  2.78636\n",
       "   8 │ FRDC_85      S. algae        16dph           68     68.0  2.8076\n",
       "   9 │ FRDC_86      S. algae        16dph           60     60.0  2.29435\n",
       "  10 │ FRDC_87      V. scophthalmi  16dph           46     46.0  2.45491\n",
       "  11 │ FRDC_88      V. scophthalmi  16dph           81     81.0  3.0016\n",
       "  12 │ FRDC_89      V. scophthalmi  16dph           44     44.0  2.60351"
      ]
     },
     "execution_count": 139,
     "metadata": {},
     "output_type": "execute_result"
    }
   ],
   "source": [
    "gdfs[3]"
   ]
  },
  {
   "cell_type": "code",
   "execution_count": 156,
   "id": "fb0a97e3-0634-4805-968a-438fbfe005a0",
   "metadata": {
    "execution": {
     "iopub.execute_input": "2023-06-27T12:13:21.511000+08:00",
     "iopub.status.busy": "2023-06-27T12:13:21.511000+08:00",
     "iopub.status.idle": "2023-06-27T12:13:21.644000+08:00",
     "shell.execute_reply": "2023-06-27T12:13:21.644000+08:00"
    },
    "tags": []
   },
   "outputs": [
    {
     "data": {
      "text/plain": [
       "3-element Vector{ExactMannWhitneyUTest{Float64}}:\n",
       " Exact Mann-Whitney U test\n",
       "-------------------------\n",
       "Population details:\n",
       "    parameter of interest:   Location parameter (pseudomedian)\n",
       "    value under h_0:         0\n",
       "    point estimate:          7.0\n",
       "\n",
       "Test summary:\n",
       "    outcome with 95% confidence: fail to reject h_0\n",
       "    two-sided p-value:           1.0000\n",
       "\n",
       "Details:\n",
       "    number of observations in each group: [3, 3]\n",
       "    Mann-Whitney-U statistic:             4.0\n",
       "    rank sums:                            [10.0, 11.0]\n",
       "    adjustment for ties:                  0.0\n",
       "\n",
       " Exact Mann-Whitney U test\n",
       "-------------------------\n",
       "Population details:\n",
       "    parameter of interest:   Location parameter (pseudomedian)\n",
       "    value under h_0:         0\n",
       "    point estimate:          7.0\n",
       "\n",
       "Test summary:\n",
       "    outcome with 95% confidence: fail to reject h_0\n",
       "    two-sided p-value:           1.0000\n",
       "\n",
       "Details:\n",
       "    number of observations in each group: [3, 3]\n",
       "    Mann-Whitney-U statistic:             4.0\n",
       "    rank sums:                            [10.0, 11.0]\n",
       "    adjustment for ties:                  0.0\n",
       "\n",
       " Exact Mann-Whitney U test\n",
       "-------------------------\n",
       "Population details:\n",
       "    parameter of interest:   Location parameter (pseudomedian)\n",
       "    value under h_0:         0\n",
       "    point estimate:          0.0964203\n",
       "\n",
       "Test summary:\n",
       "    outcome with 95% confidence: fail to reject h_0\n",
       "    two-sided p-value:           1.0000\n",
       "\n",
       "Details:\n",
       "    number of observations in each group: [3, 3]\n",
       "    Mann-Whitney-U statistic:             5.0\n",
       "    rank sums:                            [11.0, 10.0]\n",
       "    adjustment for ties:                  0.0\n"
      ]
     },
     "execution_count": 156,
     "metadata": {},
     "output_type": "execute_result"
    }
   ],
   "source": [
    "#[wktest(gdfs[3], \"Control \", \"S. algae\", x) for x in alpha_types]\n",
    "#[wktest(gdfs[3], \"Control \", \"P. spongiae\", x) for x in alpha_types]\n",
    "[wktest(gdfs[3], \"Control \", \"V. scophthalmi\", x) for x in alpha_types]"
   ]
  },
  {
   "cell_type": "code",
   "execution_count": 154,
   "id": "abaf7292-4a2b-4e3e-90a5-d309bbdfe616",
   "metadata": {
    "execution": {
     "iopub.execute_input": "2023-06-27T12:12:30.855000+08:00",
     "iopub.status.busy": "2023-06-27T12:12:30.854000+08:00",
     "iopub.status.idle": "2023-06-27T12:12:31.099000+08:00",
     "shell.execute_reply": "2023-06-27T12:12:31.098000+08:00"
    },
    "tags": []
   },
   "outputs": [
    {
     "data": {
      "text/plain": [
       "3-element Vector{StatsAPI.HypothesisTest}:\n",
       " Approximate Mann-Whitney U test\n",
       "-------------------------------\n",
       "Population details:\n",
       "    parameter of interest:   Location parameter (pseudomedian)\n",
       "    value under h_0:         0\n",
       "    point estimate:          2.0\n",
       "\n",
       "Test summary:\n",
       "    outcome with 95% confidence: fail to reject h_0\n",
       "    two-sided p-value:           0.7483\n",
       "\n",
       "Details:\n",
       "    number of observations in each group: [6, 6]\n",
       "    Mann-Whitney-U statistic:             20.5\n",
       "    rank sums:                            [41.5, 36.5]\n",
       "    adjustment for ties:                  6.0\n",
       "    normal approximation (μ, σ):          (2.5, 6.23407)\n",
       "\n",
       " Approximate Mann-Whitney U test\n",
       "-------------------------------\n",
       "Population details:\n",
       "    parameter of interest:   Location parameter (pseudomedian)\n",
       "    value under h_0:         0\n",
       "    point estimate:          2.0\n",
       "\n",
       "Test summary:\n",
       "    outcome with 95% confidence: fail to reject h_0\n",
       "    two-sided p-value:           0.7483\n",
       "\n",
       "Details:\n",
       "    number of observations in each group: [6, 6]\n",
       "    Mann-Whitney-U statistic:             20.5\n",
       "    rank sums:                            [41.5, 36.5]\n",
       "    adjustment for ties:                  6.0\n",
       "    normal approximation (μ, σ):          (2.5, 6.23407)\n",
       "\n",
       " Exact Mann-Whitney U test\n",
       "-------------------------\n",
       "Population details:\n",
       "    parameter of interest:   Location parameter (pseudomedian)\n",
       "    value under h_0:         0\n",
       "    point estimate:          0.533192\n",
       "\n",
       "Test summary:\n",
       "    outcome with 95% confidence: fail to reject h_0\n",
       "    two-sided p-value:           0.1320\n",
       "\n",
       "Details:\n",
       "    number of observations in each group: [6, 6]\n",
       "    Mann-Whitney-U statistic:             28.0\n",
       "    rank sums:                            [49.0, 29.0]\n",
       "    adjustment for ties:                  0.0\n"
      ]
     },
     "execution_count": 154,
     "metadata": {},
     "output_type": "execute_result"
    }
   ],
   "source": [
    "#[wktest(gdfs[4], \"Control \", \"S. algae\", x) for x in alpha_types]\n",
    "#[wktest(gdfs[4], \"Control \", \"P. spongiae\", x) for x in alpha_types]\n",
    "[wktest(gdfs[4], \"Control \", \"V. scophthalmi\", x) for x in alpha_types]"
   ]
  },
  {
   "cell_type": "code",
   "execution_count": 121,
   "id": "7e86aa38-193b-409b-a842-2046cc7955b4",
   "metadata": {
    "execution": {
     "iopub.execute_input": "2023-06-27T11:57:11.748000+08:00",
     "iopub.status.busy": "2023-06-27T11:57:11.748000+08:00",
     "iopub.status.idle": "2023-06-27T11:57:12.944000+08:00",
     "shell.execute_reply": "2023-06-27T11:57:12.944000+08:00"
    },
    "tags": []
   },
   "outputs": [
    {
     "data": {
      "text/plain": [
       "Kruskal-Wallis rank sum test (chi-square approximation)\n",
       "-------------------------------------------------------\n",
       "Population details:\n",
       "    parameter of interest:   Location parameters\n",
       "    value under h_0:         \"all equal\"\n",
       "    point estimate:          NaN\n",
       "\n",
       "Test summary:\n",
       "    outcome with 95% confidence: reject h_0\n",
       "    one-sided p-value:           0.0003\n",
       "\n",
       "Details:\n",
       "    number of observation in each group: [3, 23, 3, 3, 3]\n",
       "    χ²-statistic:                        21.2179\n",
       "    rank sums:                           [21.0, 546.0, 18.0, 27.0, 18.0]\n",
       "    degrees of freedom:                  4\n",
       "    adjustment for ties:                 0.99986\n"
      ]
     },
     "execution_count": 121,
     "metadata": {},
     "output_type": "execute_result"
    }
   ],
   "source": [
    "a = filter(:Treatment => x -> x == \"Control \", gdfs[1]) \n",
    "b = filter(:Treatment => x -> x == \"no treatment\", gdfs[1]) \n",
    "c = filter(:Treatment => x -> x == \"S. algae\", gdfs[1])\n",
    "d = filter(:Treatment => x -> x == \"P. spongiae\", gdfs[1])\n",
    "e = filter(:Treatment => x -> x == \"V. scophthalmi\", gdfs[1])\n",
    "\n",
    "KruskalWallisTest(a.Observed, b.Observed, c.Observed, d.Observed, e.Observed)\n",
    "#KruskalWallisTest(a.Chao1, b.Chao1, c.Chao1, d.Chao1, e.Chao1)\n",
    "#KruskalWallisTest(a.Shannon, b.Shannon, c.Shannon, d.Shannon, e.Shannon)"
   ]
  },
  {
   "cell_type": "code",
   "execution_count": 120,
   "id": "e9ff8049-ad44-4d48-9634-86cce0c93b1f",
   "metadata": {
    "execution": {
     "iopub.execute_input": "2023-06-27T11:51:13.899000+08:00",
     "iopub.status.busy": "2023-06-27T11:51:13.898000+08:00",
     "iopub.status.idle": "2023-06-27T11:51:14.930000+08:00",
     "shell.execute_reply": "2023-06-27T11:51:14.929000+08:00"
    },
    "tags": []
   },
   "outputs": [
    {
     "data": {
      "text/plain": [
       "Kruskal-Wallis rank sum test (chi-square approximation)\n",
       "-------------------------------------------------------\n",
       "Population details:\n",
       "    parameter of interest:   Location parameters\n",
       "    value under h_0:         \"all equal\"\n",
       "    point estimate:          NaN\n",
       "\n",
       "Test summary:\n",
       "    outcome with 95% confidence: reject h_0\n",
       "    one-sided p-value:           0.0071\n",
       "\n",
       "Details:\n",
       "    number of observation in each group: [6, 6, 6, 6]\n",
       "    χ²-statistic:                        12.0867\n",
       "    rank sums:                           [65.0, 42.0, 124.0, 69.0]\n",
       "    degrees of freedom:                  3\n",
       "    adjustment for ties:                 1.0\n"
      ]
     },
     "execution_count": 120,
     "metadata": {},
     "output_type": "execute_result"
    }
   ],
   "source": [
    "a = filter(:Treatment => x -> x == \"Control \", gdfs[2]) \n",
    "c = filter(:Treatment => x -> x == \"S. algae\", gdfs[2])\n",
    "d = filter(:Treatment => x -> x == \"P. spongiae\", gdfs[2])\n",
    "e = filter(:Treatment => x -> x == \"V. scophthalmi\", gdfs[2])\n",
    "\n",
    "#KruskalWallisTest(a.Observed, c.Observed, d.Observed, e.Observed)\n",
    "#KruskalWallisTest(a.Chao1, c.Chao1, d.Chao1, e.Chao1)\n",
    "KruskalWallisTest(a.Shannon, c.Shannon, d.Shannon, e.Shannon)"
   ]
  },
  {
   "cell_type": "code",
   "execution_count": 146,
   "id": "17664fa0-1abc-4713-a388-0f3b4a4014dc",
   "metadata": {
    "execution": {
     "iopub.execute_input": "2023-06-27T12:07:10.972000+08:00",
     "iopub.status.busy": "2023-06-27T12:07:10.970000+08:00",
     "iopub.status.idle": "2023-06-27T12:07:11.952000+08:00",
     "shell.execute_reply": "2023-06-27T12:07:11.950000+08:00"
    },
    "tags": []
   },
   "outputs": [
    {
     "data": {
      "text/plain": [
       "Kruskal-Wallis rank sum test (chi-square approximation)\n",
       "-------------------------------------------------------\n",
       "Population details:\n",
       "    parameter of interest:   Location parameters\n",
       "    value under h_0:         \"all equal\"\n",
       "    point estimate:          NaN\n",
       "\n",
       "Test summary:\n",
       "    outcome with 95% confidence: fail to reject h_0\n",
       "    one-sided p-value:           0.7641\n",
       "\n",
       "Details:\n",
       "    number of observation in each group: [3, 3, 3, 3]\n",
       "    χ²-statistic:                        1.15385\n",
       "    rank sums:                           [19.0, 16.0, 25.0, 18.0]\n",
       "    degrees of freedom:                  3\n",
       "    adjustment for ties:                 1.0\n"
      ]
     },
     "execution_count": 146,
     "metadata": {},
     "output_type": "execute_result"
    }
   ],
   "source": [
    "a = filter(:Treatment => x -> x == \"Control \", gdfs[3]) \n",
    "c = filter(:Treatment => x -> x == \"S. algae\", gdfs[3])\n",
    "d = filter(:Treatment => x -> x == \"P. spongiae\", gdfs[3])\n",
    "e = filter(:Treatment => x -> x == \"V. scophthalmi\", gdfs[3])\n",
    "\n",
    "#KruskalWallisTest(a.Observed, c.Observed, d.Observed, e.Observed)\n",
    "#KruskalWallisTest(a.Chao1, c.Chao1, d.Chao1, e.Chao1)\n",
    "KruskalWallisTest(a.Shannon, c.Shannon, d.Shannon, e.Shannon)"
   ]
  },
  {
   "cell_type": "code",
   "execution_count": 159,
   "id": "3a2490d1-2549-415b-847b-aeedfe787b07",
   "metadata": {
    "execution": {
     "iopub.execute_input": "2023-06-27T12:14:30.111000+08:00",
     "iopub.status.busy": "2023-06-27T12:14:30.111000+08:00",
     "iopub.status.idle": "2023-06-27T12:14:31.114000+08:00",
     "shell.execute_reply": "2023-06-27T12:14:31.114000+08:00"
    },
    "tags": []
   },
   "outputs": [
    {
     "data": {
      "text/plain": [
       "Kruskal-Wallis rank sum test (chi-square approximation)\n",
       "-------------------------------------------------------\n",
       "Population details:\n",
       "    parameter of interest:   Location parameters\n",
       "    value under h_0:         \"all equal\"\n",
       "    point estimate:          NaN\n",
       "\n",
       "Test summary:\n",
       "    outcome with 95% confidence: fail to reject h_0\n",
       "    one-sided p-value:           0.2120\n",
       "\n",
       "Details:\n",
       "    number of observation in each group: [6, 6, 5, 6]\n",
       "    χ²-statistic:                        4.5029\n",
       "    rank sums:                           [91.0, 87.0, 48.0, 50.0]\n",
       "    degrees of freedom:                  3\n",
       "    adjustment for ties:                 1.0\n"
      ]
     },
     "execution_count": 159,
     "metadata": {},
     "output_type": "execute_result"
    }
   ],
   "source": [
    "a = filter(:Treatment => x -> x == \"Control \", gdfs[4]) \n",
    "c = filter(:Treatment => x -> x == \"S. algae\", gdfs[4])\n",
    "d = filter(:Treatment => x -> x == \"P. spongiae\", gdfs[4])\n",
    "e = filter(:Treatment => x -> x == \"V. scophthalmi\", gdfs[4])\n",
    "\n",
    "#KruskalWallisTest(a.Observed, c.Observed, d.Observed, e.Observed)\n",
    "#KruskalWallisTest(a.Chao1, c.Chao1, d.Chao1, e.Chao1)\n",
    "KruskalWallisTest(a.Shannon, c.Shannon, d.Shannon, e.Shannon)"
   ]
  },
  {
   "cell_type": "code",
   "execution_count": 161,
   "id": "fe72f2f5-c34e-4a58-88bb-019bbc6e137f",
   "metadata": {
    "execution": {
     "iopub.execute_input": "2023-06-27T12:15:25.535000+08:00",
     "iopub.status.busy": "2023-06-27T12:15:25.535000+08:00",
     "iopub.status.idle": "2023-06-27T12:15:25.553000+08:00",
     "shell.execute_reply": "2023-06-27T12:15:25.548000+08:00"
    },
    "tags": []
   },
   "outputs": [
    {
     "data": {
      "text/plain": [
       "7-element Vector{Float64}:\n",
       " 0.11130000000000001\n",
       " 0.23607499999999998\n",
       " 0.6781833333333335\n",
       " 0.23607499999999998\n",
       " 0.6781833333333335\n",
       " 0.23607499999999998\n",
       " 1.0"
      ]
     },
     "execution_count": 161,
     "metadata": {},
     "output_type": "execute_result"
    }
   ],
   "source": [
    "p = [0.0714, 0.9333, 1.0000, 0.0823]\n",
    "p = [0.5714, 0.6667, 1.0000, 0.0173]\n",
    "p = [0.0098, 0.0333, 0.3471, 0.3894, 0.0301, 0.7119]\n",
    "p = [0.5338, 0.4698, 0.9452, 0.3660, 0.2403, 0.4286]\n",
    "p = [0.0159, 0.1349, 0.5813, 0.1270, 0.5238, 0.0714, 1.0000]\n",
    "#p = [1.0000, 0.1508, 0.7922, 0.8413, 0.2222, 0.0952, 0.0952]\n",
    "pvals = PValues(p)\n",
    "adjust(pvals, BenjaminiHochberg())"
   ]
  },
  {
   "cell_type": "code",
   "execution_count": 174,
   "id": "031660c4-790b-4822-832b-3be1e3e1042c",
   "metadata": {
    "execution": {
     "iopub.execute_input": "2023-06-27T12:23:38.920000+08:00",
     "iopub.status.busy": "2023-06-27T12:23:38.920000+08:00",
     "iopub.status.idle": "2023-06-27T12:23:38.932000+08:00",
     "shell.execute_reply": "2023-06-27T12:23:38.927000+08:00"
    },
    "tags": []
   },
   "outputs": [
    {
     "data": {
      "text/plain": [
       "3-element Vector{Float64}:\n",
       " 0.8182\n",
       " 0.3702\n",
       " 0.3702"
      ]
     },
     "execution_count": 174,
     "metadata": {},
     "output_type": "execute_result"
    }
   ],
   "source": [
    "p = [0.0081, 1.0000, 1.0000, 1.0000]\n",
    "p = [0.0177, 0.7000, 0.7000, 1.0000]\n",
    "p = [0.1460, 0.1249, 0.3751]\n",
    "p = [0.2403, 0.0087, 0.8182]\n",
    "p = [1.0000, 1.0000, 1.0000]\n",
    "p = [1.0000, 0.7000, 1.0000]\n",
    "p = [0.8182, 0.7144, 0.7483]\n",
    "p = [0.8182, 0.2468, 0.1320]\n",
    "\n",
    "pvals = PValues(p)\n",
    "adjust(pvals, BenjaminiHochberg())"
   ]
  },
  {
   "cell_type": "code",
   "execution_count": null,
   "id": "c690bc79-f0df-4c90-b3c4-374041258fec",
   "metadata": {},
   "outputs": [],
   "source": []
  }
 ],
 "metadata": {
  "kernelspec": {
   "display_name": "Julia 1.9.0",
   "language": "julia",
   "name": "julia-1.9"
  },
  "language_info": {
   "file_extension": ".jl",
   "mimetype": "application/julia",
   "name": "julia",
   "version": "1.9.0"
  }
 },
 "nbformat": 4,
 "nbformat_minor": 5
}
