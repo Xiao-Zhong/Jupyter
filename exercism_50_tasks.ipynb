{
 "cells": [
  {
   "cell_type": "code",
   "execution_count": 26,
   "metadata": {},
   "outputs": [],
   "source": [
    "function is_leap_year(year)\n",
    "    if (year % 4 === 0) && (year % 100 !== 0) || (year % 400 === 0)\n",
    "        return true\n",
    "    end\n",
    "end\n",
    "\n",
    "is_leap_year(2015)\n"
   ]
  },
  {
   "cell_type": "code",
   "execution_count": 40,
   "metadata": {},
   "outputs": [
    {
     "data": {
      "text/plain": [
       "Dict{Char, Int64} with 4 entries:\n",
       "  'A' => 2\n",
       "  'G' => 0\n",
       "  'T' => 1\n",
       "  'C' => 2"
      ]
     },
     "execution_count": 40,
     "metadata": {},
     "output_type": "execute_result"
    }
   ],
   "source": [
    "function count_nucleotides(strand)\n",
    "    a = 0; c = 0; g = 0; t = 0\n",
    "    for x in strand\n",
    "        if x == 'A'\n",
    "            a += 1\n",
    "        elseif x == 'C'\n",
    "            c += 1\n",
    "        elseif x == 'G'\n",
    "            g += 1\n",
    "        elseif x == 'T'\n",
    "            t += 1\n",
    "        else\n",
    "            throw(DomainError(x, \"Not a valid nucleotide\"))\n",
    "        end\n",
    "    end\n",
    "    return Dict('A' => a, 'C' => c, 'G' => g, 'T' => t)\n",
    "end\n",
    "\n",
    "count_nucleotides(\"CACAT\")"
   ]
  },
  {
   "cell_type": "code",
   "execution_count": 115,
   "metadata": {},
   "outputs": [
    {
     "data": {
      "text/plain": [
       "true"
      ]
     },
     "execution_count": 115,
     "metadata": {},
     "output_type": "execute_result"
    }
   ],
   "source": [
    "\"\"\"\n",
    "    ispangram(input)\n",
    "\n",
    "Return `true` if `input` contains every alphabetic character (case insensitive).\n",
    "\n",
    "\"\"\"\n",
    "function ispangram(input)\n",
    "    input = uppercase(input)\n",
    "\n",
    "    bad = 0\n",
    "    for char in ('A':'Z')\n",
    "        #println(char)\n",
    "        if ! (char in input)\n",
    "            bad = 1; break\n",
    "        end\n",
    "    end\n",
    "\n",
    "    if (bad === 1)\n",
    "        return false\n",
    "    else\n",
    "        return true\n",
    "    end\n",
    "end\n",
    "\n",
    "ispangram(\"The quick brown fox jumps over the lazy dog.\")\n",
    "#ispangram(\"a quick movement of the enemy will jeopardize five gunboats\")"
   ]
  },
  {
   "cell_type": "code",
   "execution_count": 201,
   "metadata": {},
   "outputs": [
    {
     "ename": "LoadError",
     "evalue": "MethodError: no method matching Char(::String)\n\u001b[0mClosest candidates are:\n\u001b[0m  (::Type{T})(\u001b[91m::T\u001b[39m) where T<:AbstractChar at char.jl:51\n\u001b[0m  (::Type{T})(\u001b[91m::AbstractChar\u001b[39m) where T<:Union{AbstractChar, Number} at char.jl:50\n\u001b[0m  Char(\u001b[91m::UInt32\u001b[39m) at char.jl:158\n\u001b[0m  ...",
     "output_type": "error",
     "traceback": [
      "MethodError: no method matching Char(::String)\n\u001b[0mClosest candidates are:\n\u001b[0m  (::Type{T})(\u001b[91m::T\u001b[39m) where T<:AbstractChar at char.jl:51\n\u001b[0m  (::Type{T})(\u001b[91m::AbstractChar\u001b[39m) where T<:Union{AbstractChar, Number} at char.jl:50\n\u001b[0m  Char(\u001b[91m::UInt32\u001b[39m) at char.jl:158\n\u001b[0m  ...",
      "",
      "Stacktrace:",
      " [1] rotate(shift::Int64, old::Char)",
      "   @ Main ./In[201]:27",
      " [2] top-level scope",
      "   @ In[201]:33",
      " [3] eval",
      "   @ ./boot.jl:360 [inlined]",
      " [4] include_string(mapexpr::typeof(REPL.softscope), mod::Module, code::String, filename::String)",
      "   @ Base ./loading.jl:1116"
     ]
    }
   ],
   "source": [
    "function rotate(shift, old)\n",
    "    new = \"\"\n",
    "    for x in old\n",
    "        if islowercase(x)\n",
    "            oldstart = findfirst(isequal(x), ('a' : 'z'))\n",
    "        else\n",
    "            oldstart = findfirst(isequal(x), ('A' : 'Z'))\n",
    "        end\n",
    "\n",
    "        if oldstart !== nothing\n",
    "            newstart = oldstart + shift\n",
    "            if newstart > 26; newstart -= 26; end\n",
    "            \n",
    "            if islowercase(x)\n",
    "                newletter = ('a' : 'z')[newstart]\n",
    "            else\n",
    "                newletter = ('A' : 'Z')[newstart]\n",
    "            end\n",
    "            \n",
    "            new *=newletter\n",
    "        else\n",
    "            new *=x\n",
    "        end\n",
    "    end\n",
    "\n",
    "    if isa(old, Char)\n",
    "        return Char(new)\n",
    "    else \n",
    "        return new\n",
    "    end\n",
    "end\n",
    "\n",
    "rotate(2, 'C')"
   ]
  },
  {
   "cell_type": "code",
   "execution_count": 211,
   "metadata": {},
   "outputs": [
    {
     "data": {
      "text/plain": [
       "\"1\""
      ]
     },
     "execution_count": 211,
     "metadata": {},
     "output_type": "execute_result"
    }
   ],
   "source": [
    "function raindrops(number)\n",
    "    sounds = \"\"\n",
    "    if number%3 !== 0 && number%5 !== 0 && number%7 !== 0\n",
    "        sounds = \"$number\" \n",
    "    else\n",
    "\n",
    "        if number%3 === 0\n",
    "            sounds *= \"Pling\"\n",
    "        end\n",
    "    \n",
    "        if number%5 === 0\n",
    "            sounds *= \"Plang\"\n",
    "        end\n",
    "    \n",
    "        if number%7 === 0\n",
    "            sounds *= \"Plong\"\n",
    "        end\n",
    "    end\n",
    "    return sounds\n",
    "end\n",
    "\n",
    "#raindrops(28)\n",
    "#raindrops(30)\n",
    "#raindrops(34)\n",
    "raindrops(1)"
   ]
  },
  {
   "cell_type": "code",
   "execution_count": 47,
   "metadata": {},
   "outputs": [
    {
     "data": {
      "text/plain": [
       "2-element Vector{Any}:\n",
       " \"double blink\"\n",
       " \"wink\""
      ]
     },
     "execution_count": 47,
     "metadata": {},
     "output_type": "execute_result"
    }
   ],
   "source": [
    "D = Dict(\"1\" => \"wink\", \n",
    "        \"10\" => \"double blink\", \n",
    "        \"100\" => \"close your eyes\",\n",
    "        \"1000\" => \"jump\",\n",
    "        \"10000\" => \"Reverse\")\n",
    "\n",
    "function secret_handshake(number)\n",
    "    binarystring = string(number, base=2)\n",
    "    \n",
    "    have10000 = 0\n",
    "    arr = []\n",
    "    p = 1\n",
    "    for x in reverse(split(binarystring, \"\"))\n",
    "        if x == \"1\"\n",
    "            code = \"$x\" * '0'^(p-1)\n",
    "            if code !== \"10000\"\n",
    "                if haskey(D, code)\n",
    "                    push!(arr, D[code])\n",
    "                else\n",
    "                    break\n",
    "                end\n",
    "            else\n",
    "                have10000 = 1\n",
    "            end\n",
    "        end\n",
    "        p +=1\n",
    "    end\n",
    "\n",
    "    if have10000 === 1\n",
    "        reverse!(arr)\n",
    "    end\n",
    "    return arr\n",
    "end\n",
    "secret_handshake(19)"
   ]
  },
  {
   "cell_type": "code",
   "execution_count": 12,
   "metadata": {},
   "outputs": [
    {
     "data": {
      "text/plain": [
       "2640"
      ]
     },
     "metadata": {},
     "output_type": "display_data"
    }
   ],
   "source": [
    "\"Square the sum of the first `n` positive integers\"\n",
    "function square_of_sum(n)\n",
    "    sum = 0 \n",
    "    for x in 1:n\n",
    "        sum +=x\n",
    "    end\n",
    "    return sum^2\n",
    "end\n",
    "#square_of_sum(10)\n",
    "\n",
    "# \"Sum the squares of the first `n` positive integers\"\n",
    "function sum_of_squares(n)\n",
    "    sum = 0\n",
    "    for x in 1:n\n",
    "        sum += x^2\n",
    "    end\n",
    "    return sum\n",
    "end\n",
    "#sum_of_squares(10)\n",
    "# \"Subtract the sum of squares from square of the sum of the first `n` positive ints\"\n",
    "function difference(n)\n",
    "    return  square_of_sum(n) - sum_of_squares(n)\n",
    "end\n",
    "\n",
    "difference(10)\n"
   ]
  },
  {
   "cell_type": "code",
   "execution_count": 15,
   "metadata": {},
   "outputs": [
    {
     "data": {
      "text/plain": [
       "5"
      ]
     },
     "metadata": {},
     "output_type": "display_data"
    }
   ],
   "source": [
    "function score(x, y)\n",
    "    r = sqrt(x^2 + y^2)\n",
    "    if r <= 1\n",
    "        score = 10\n",
    "    elseif r > 1 && r <= 5\n",
    "        score = 5\n",
    "    elseif r >5 && r <= 10\n",
    "        score = 1\n",
    "    else\n",
    "        score = 0\n",
    "    end\n",
    "\n",
    "    return score\n",
    "end\n",
    "\n",
    "score(3, 4)"
   ]
  },
  {
   "cell_type": "code",
   "execution_count": 55,
   "metadata": {},
   "outputs": [
    {
     "data": {
      "text/plain": [
       "3"
      ]
     },
     "metadata": {},
     "output_type": "display_data"
    }
   ],
   "source": [
    "function distance(a, b)\n",
    "    if length(a) === length(b)\n",
    "        al = split(a, \"\")\n",
    "        bl = split(b, \"\")\n",
    "    \n",
    "        d = 0\n",
    "        for (index, x) in enumerate(al)\n",
    "            if String(x) !== String(bl[index])\n",
    "                d +=1\n",
    "            end\n",
    "        end\n",
    "        return d\n",
    "    else\n",
    "        throw()\n",
    "    end\n",
    "end\n",
    "\n",
    "distance(\"ATCG\", \"CCCC\")"
   ]
  },
  {
   "cell_type": "code",
   "execution_count": 67,
   "metadata": {},
   "outputs": [
    {
     "data": {
      "text/plain": [
       "2"
      ]
     },
     "metadata": {},
     "output_type": "display_data"
    }
   ],
   "source": [
    "function distance(a, b)\n",
    "    if length(a) === length(b)    \n",
    "        d = 0\n",
    "        for (index, x) in enumerate(a)\n",
    "            #println(index, x)\n",
    "            if x !== b[index]\n",
    "                d +=1\n",
    "            end\n",
    "        end\n",
    "        return d\n",
    "    else\n",
    "        throw()\n",
    "    end\n",
    "end\n",
    "\n",
    "distance(\"ATCG\", \"CCCG\")"
   ]
  },
  {
   "cell_type": "code",
   "execution_count": 90,
   "metadata": {},
   "outputs": [
    {
     "data": {
      "text/plain": [
       "\"UGGCA\""
      ]
     },
     "metadata": {},
     "output_type": "display_data"
    }
   ],
   "source": [
    "D = Dict('A' => 'U', \n",
    "        'T' => 'A', \n",
    "        'C' => 'G',\n",
    "        'G' => 'C')\n",
    "\n",
    "function to_rna(dna)\n",
    "    rna = \"\"\n",
    "    for x in dna\n",
    "        #println(x)\n",
    "        if haskey(D, x)\n",
    "            rna *= D[x]\n",
    "        else\n",
    "            throw(error(\"\\\"$x\\\" isn't a nucloetide in DNA\"))\n",
    "        end\n",
    "    end\n",
    "    return rna\n",
    "end\n",
    "\n",
    "to_rna(\"ACCGT\")\n"
   ]
  },
  {
   "cell_type": "code",
   "execution_count": 1,
   "metadata": {},
   "outputs": [
    {
     "data": {
      "text/plain": [
       "decode (generic function with 1 method)"
      ]
     },
     "metadata": {},
     "output_type": "display_data"
    }
   ],
   "source": [
    "function encode(s)\n",
    "    label = \"\"\n",
    "    count = 1\n",
    "    new = \"\"\n",
    "    for x in s\n",
    "        #println(x)\n",
    "        if x === label\n",
    "            count +=1\n",
    "        else\n",
    "            #println(count, label)\n",
    "            if count > 1\n",
    "                new *= \"$count$label\"\n",
    "            else\n",
    "                new *= label\n",
    "            end\n",
    "            count = 1\n",
    "            label = x\n",
    "        end\n",
    "    end\n",
    "    \n",
    "\n",
    "    if count > 1\n",
    "        return new *= \"$count$label\"\n",
    "    else\n",
    "        return new *= label\n",
    "    end\n",
    "end\n",
    "\n",
    "function decode(s)\n",
    "    count = 1\n",
    "    count2 = \"\"\n",
    "    old = \"\"\n",
    "    for x in s\n",
    "        if isletter(x) || isspace(x)\n",
    "            #println(x)\n",
    "            count *= parse(Int, count2)\n",
    "            if count > 1\n",
    "                old *= x^count\n",
    "            else\n",
    "                old *= \"$x\"\n",
    "            end\n",
    "            count = 1\n",
    "        else\n",
    "            #count = parse(Int, x)\n",
    "            count2 *= x\n",
    "        end\n",
    "        #println(count)\n",
    "    end\n",
    "    return old \n",
    "end\n",
    "\n",
    "#encode(\"AABCCCD  EEEE\")\n",
    "#decode(\"12WB12W3B24WB\")\n",
    "#Expression: encode(\"AABBBCCCC\") == \"2A3B4C\"\n",
    "#\"AABCCCDEEEE\"  ->  \"2AB3CD4E\"  ->  \"AABCCCDEEEE\""
   ]
  },
  {
   "cell_type": "code",
   "execution_count": null,
   "metadata": {},
   "outputs": [
    {
     "data": {
      "text/plain": [
       "2-element Vector{Any}:\n",
       " \"double blink\"\n",
       " \"wink\""
      ]
     },
     "metadata": {},
     "output_type": "display_data"
    }
   ],
   "source": [
    "D = Dict(\"1\" => \"wink\", \n",
    "        \"10\" => \"double blink\", \n",
    "        \"100\" => \"close your eyes\",\n",
    "        \"1000\" => \"jump\",\n",
    "        \"10000\" => \"Reverse\")\n",
    "\n",
    "function secret_handshake(number)\n",
    "    binarystring = string(number, base=2)\n",
    "    \n",
    "    have10000 = 0\n",
    "    arr = []\n",
    "    p = 1\n",
    "    for x in reverse(split(binarystring, \"\"))\n",
    "        if x == \"1\"\n",
    "            code = \"$x\" * '0'^(p-1)\n",
    "            if code !== \"10000\"\n",
    "                if haskey(D, code)\n",
    "                    push!(arr, D[code])\n",
    "                else\n",
    "                    break\n",
    "                end\n",
    "            else\n",
    "                have10000 = 1\n",
    "            end\n",
    "        end\n",
    "        p +=1\n",
    "    end\n",
    "\n",
    "    if have10000 === 1\n",
    "        reverse!(arr)\n",
    "    end\n",
    "    return arr\n",
    "end\n",
    "secret_handshake(19)"
   ]
  },
  {
   "cell_type": "code",
   "execution_count": 5,
   "metadata": {},
   "outputs": [
    {
     "name": "stdout",
     "output_type": "stream",
     "text": [
      "\"That's\n",
      "the\n",
      "password:\n",
      "'PASSWORD\n",
      "123'!\",\n",
      "cried\n",
      "the\n",
      "Special\n",
      "Agent.\n",
      "So\n",
      "I\n",
      "fled.\n",
      "the\n",
      "count\n",
      "would\n",
      "be:\n"
     ]
    }
   ],
   "source": [
    "function wordcount(sentence)\n",
    "    words = split(sentence, \" \")\n",
    "    for word in words\n",
    "        #println(word)\n",
    "        for w in \n",
    "    end\n",
    "end\n",
    "\n",
    "wordcount(\"\\\"That's the password: 'PASSWORD 123'!\\\", cried the Special Agent.\\nSo I fled. the count would be:\")"
   ]
  },
  {
   "cell_type": "code",
   "execution_count": 21,
   "metadata": {},
   "outputs": [
    {
     "ename": "MethodError",
     "evalue": "MethodError: no method matching filter(::var\"#17#18\", ::Char)\nClosest candidates are:\n  filter(::Any, !Matched::Tuple{Any, Any, Any, Any, Any, Any, Any, Any, Any, Any, Any, Any, Any, Any, Any, Any, Vararg{Any, N}} where N) at tuple.jl:345\n  filter(::Any, !Matched::Tuple) at tuple.jl:342\n  filter(::Any, !Matched::Array{T, N}) where {T, N} at array.jl:2502\n  ...",
     "output_type": "error",
     "traceback": [
      "MethodError: no method matching filter(::var\"#17#18\", ::Char)\n",
      "Closest candidates are:\n",
      "  filter(::Any, !Matched::Tuple{Any, Any, Any, Any, Any, Any, Any, Any, Any, Any, Any, Any, Any, Any, Any, Any, Vararg{Any, N}} where N) at tuple.jl:345\n",
      "  filter(::Any, !Matched::Tuple) at tuple.jl:342\n",
      "  filter(::Any, !Matched::Array{T, N}) where {T, N} at array.jl:2502\n",
      "  ...\n",
      "\n",
      "Stacktrace:\n",
      "  [1] top-level scope\n",
      "    @ ~/scripts/julia/05_50_tasks/exercism_50_tasks.ipynb:3\n",
      "  [2] eval\n",
      "    @ ./boot.jl:360 [inlined]\n",
      "  [3] include_string(mapexpr::typeof(REPL.softscope), mod::Module, code::String, filename::String)\n",
      "    @ Base ./loading.jl:1116\n",
      "  [4] #invokelatest#2\n",
      "    @ ./essentials.jl:708 [inlined]\n",
      "  [5] invokelatest\n",
      "    @ ./essentials.jl:706 [inlined]\n",
      "  [6] (::VSCodeServer.var\"#146#147\"{VSCodeServer.NotebookRunCellArguments, String})()\n",
      "    @ VSCodeServer ~/.vscode/extensions/julialang.language-julia-1.5.6/scripts/packages/VSCodeServer/src/serve_notebook.jl:18\n",
      "  [7] withpath(f::VSCodeServer.var\"#146#147\"{VSCodeServer.NotebookRunCellArguments, String}, path::String)\n",
      "    @ VSCodeServer ~/.vscode/extensions/julialang.language-julia-1.5.6/scripts/packages/VSCodeServer/src/repl.jl:185\n",
      "  [8] notebook_runcell_request(conn::VSCodeServer.JSONRPC.JSONRPCEndpoint{Base.PipeEndpoint, Base.PipeEndpoint}, params::VSCodeServer.NotebookRunCellArguments)\n",
      "    @ VSCodeServer ~/.vscode/extensions/julialang.language-julia-1.5.6/scripts/packages/VSCodeServer/src/serve_notebook.jl:14\n",
      "  [9] dispatch_msg(x::VSCodeServer.JSONRPC.JSONRPCEndpoint{Base.PipeEndpoint, Base.PipeEndpoint}, dispatcher::VSCodeServer.JSONRPC.MsgDispatcher, msg::Dict{String, Any})\n",
      "    @ VSCodeServer.JSONRPC ~/.vscode/extensions/julialang.language-julia-1.5.6/scripts/packages/JSONRPC/src/typed.jl:67\n",
      " [10] serve_notebook(pipename::String; crashreporting_pipename::String)\n",
      "    @ VSCodeServer ~/.vscode/extensions/julialang.language-julia-1.5.6/scripts/packages/VSCodeServer/src/serve_notebook.jl:94\n",
      " [11] top-level scope\n",
      "    @ ~/.vscode/extensions/julialang.language-julia-1.5.6/scripts/notebook/notebook.jl:12\n",
      " [12] include(mod::Module, _path::String)\n",
      "    @ Base ./Base.jl:386\n",
      " [13] exec_options(opts::Base.JLOptions)\n",
      "    @ Base ./client.jl:285\n",
      " [14] _start()\n",
      "    @ Base ./client.jl:485"
     ]
    }
   ],
   "source": [
    "for w in \"abc'ABC\"\n",
    "    println(w)\n",
    "    filter(x -> match(r\"a\", x), w)\n",
    "end"
   ]
  }
 ],
 "metadata": {
  "kernelspec": {
   "display_name": "Julia 1.6.2",
   "language": "julia",
   "name": "julia-1.6"
  },
  "language_info": {
   "file_extension": ".jl",
   "mimetype": "application/julia",
   "name": "julia",
   "version": "1.6.2"
  },
  "orig_nbformat": 4
 },
 "nbformat": 4,
 "nbformat_minor": 2
}
