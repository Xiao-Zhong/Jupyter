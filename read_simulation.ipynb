{
 "cells": [
  {
   "cell_type": "code",
   "execution_count": 1,
   "metadata": {},
   "outputs": [
    {
     "data": {
      "text/plain": [
       "Pool of 1 DNA molecules:\n",
       " All molecules are of the same size: 4639675\n"
      ]
     },
     "metadata": {},
     "output_type": "display_data"
    }
   ],
   "source": [
    "using Pseudoseq.Sequencing\n",
    "\n",
    "m = Molecules(\"ecoli-ref.fasta\")"
   ]
  },
  {
   "cell_type": "code",
   "execution_count": 2,
   "metadata": {},
   "outputs": [
    {
     "data": {
      "text/plain": [
       "Pseudoseq.Sequencing.Amplifier{Pseudoseq.Sequencing.var\"#7#8\"}(Pseudoseq.Sequencing.var\"#7#8\"(), 5000)"
      ]
     },
     "metadata": {},
     "output_type": "display_data"
    }
   ],
   "source": [
    "amp = amplify(5000)"
   ]
  },
  {
   "cell_type": "code",
   "execution_count": 7,
   "metadata": {},
   "outputs": [
    {
     "data": {
      "text/plain": [
       "Pseudoseq.Sequencing.Fragmenter(700)"
      ]
     },
     "metadata": {},
     "output_type": "display_data"
    }
   ],
   "source": [
    "frag = fragment(700bp)"
   ]
  },
  {
   "cell_type": "code",
   "execution_count": 5,
   "metadata": {},
   "outputs": [
    {
     "data": {
      "text/plain": [
       "Pseudoseq.Sequencing.Selector{var\"#5#6\"}(var\"#5#6\"())"
      ]
     },
     "metadata": {},
     "output_type": "display_data"
    }
   ],
   "source": [
    "size_filter = select(x -> 900 >= length(x) >= 450)"
   ]
  },
  {
   "cell_type": "code",
   "execution_count": 8,
   "metadata": {},
   "outputs": [
    {
     "data": {
      "text/plain": [
       "Pseudoseq.Sequencing.CovSubSampler{Tuple{Pseudoseq.Sequencing.SequenceLength, Pseudoseq.Sequencing.SequenceLength}}(50X sequencing coverage\n",
       ", (250 base pairs\n",
       ", 250 base pairs\n",
       "))"
      ]
     },
     "metadata": {},
     "output_type": "display_data"
    }
   ],
   "source": [
    "ssmpl = subsample(50X, 2 * 250bp)"
   ]
  },
  {
   "cell_type": "code",
   "execution_count": 10,
   "metadata": {},
   "outputs": [
    {
     "data": {
      "text/plain": [
       "Pseudoseq.Sequencing.PairedReads(250, 250)"
      ]
     },
     "metadata": {},
     "output_type": "display_data"
    }
   ],
   "source": [
    "readmaker = makereads(2 * 250bp)"
   ]
  },
  {
   "cell_type": "code",
   "execution_count": 12,
   "metadata": {},
   "outputs": [
    {
     "data": {
      "text/plain": [
       "Pseudoseq.Sequencing.SubstitutionMaker{FixedProbSubstitutions}(FixedProbSubstitutions(0.001))"
      ]
     },
     "metadata": {},
     "output_type": "display_data"
    }
   ],
   "source": [
    "errmaker = make_substitutions(FixedProbSubstitutions(0.001))"
   ]
  },
  {
   "cell_type": "code",
   "execution_count": 14,
   "metadata": {},
   "outputs": [
    {
     "name": "stderr",
     "output_type": "stream",
     "text": [
      "┌ Info: - ✔ Wrote 927934 paired end reads to FASTQ file\n",
      "└ @ Pseudoseq.Sequencing /Users/xzhong/.julia/packages/Pseudoseq/BwzQ4/src/sequencing/Reads.jl:273\n"
     ]
    },
    {
     "data": {
      "text/plain": []
     },
     "metadata": {},
     "output_type": "display_data"
    },
    {
     "name": "stdout",
     "output_type": "stream",
     "text": [
      "927934 paired reads:\n",
      " Maximum read size: 250\n",
      " Average read size: 250\n",
      " Minimum read size: 250\n",
      " Number of errors: 231906\n"
     ]
    }
   ],
   "source": [
    "m |> amp |> frag |> size_filter |> ssmpl |> readmaker |> errmaker |> generate(\"pe-reads.fastq\")"
   ]
  },
  {
   "cell_type": "code",
   "execution_count": 15,
   "metadata": {},
   "outputs": [
    {
     "name": "stderr",
     "output_type": "stream",
     "text": [
      "┌ Info: - ✔ Wrote 927934 paired end reads to FASTQ file\n",
      "└ @ Pseudoseq.Sequencing /Users/xzhong/.julia/packages/Pseudoseq/BwzQ4/src/sequencing/Reads.jl:273\n"
     ]
    },
    {
     "data": {
      "text/plain": []
     },
     "metadata": {},
     "output_type": "display_data"
    },
    {
     "name": "stdout",
     "output_type": "stream",
     "text": [
      "927934 paired reads:\n",
      " Maximum read size: 250\n",
      " Average read size: 250\n",
      " Minimum read size: 250\n",
      " Number of errors: 230944\n"
     ]
    }
   ],
   "source": [
    "m |> amp |> frag |> size_filter |> ssmpl |> readmaker |> errmaker |> generate(\"pe-reads.R1.fastq\", \"pe-reads.R2.fastq\")"
   ]
  }
 ],
 "metadata": {
  "kernelspec": {
   "display_name": "Julia 1.7.1",
   "language": "julia",
   "name": "julia-1.7"
  },
  "language_info": {
   "file_extension": ".jl",
   "mimetype": "application/julia",
   "name": "julia",
   "version": "1.7.1"
  },
  "orig_nbformat": 4
 },
 "nbformat": 4,
 "nbformat_minor": 2
}
