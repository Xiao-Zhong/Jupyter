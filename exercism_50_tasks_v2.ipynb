{
 "cells": [
  {
   "cell_type": "code",
   "execution_count": 22,
   "metadata": {},
   "outputs": [
    {
     "data": {
      "text/plain": [
       "'b': ASCII/Unicode U+0062 (category Ll: Letter, lowercase)"
      ]
     },
     "metadata": {},
     "output_type": "display_data"
    }
   ],
   "source": [
    "function rotate(shift, old::String)\n",
    "    new = \"\"\n",
    "    for x in old\n",
    "        if islowercase(x)\n",
    "            oldstart = findfirst(isequal(x), ('a' : 'z'))\n",
    "        else\n",
    "            oldstart = findfirst(isequal(x), ('A' : 'Z'))\n",
    "        end\n",
    "\n",
    "        if oldstart !== nothing\n",
    "            newstart = oldstart + shift\n",
    "            if newstart > 26; newstart -= 26; end\n",
    "            \n",
    "            if islowercase(x)\n",
    "                newletter = ('a' : 'z')[newstart]\n",
    "            else\n",
    "                newletter = ('A' : 'Z')[newstart]\n",
    "            end\n",
    "            \n",
    "            new *=newletter\n",
    "        else\n",
    "            new *=x\n",
    "        end\n",
    "    end\n",
    "    return new\n",
    "end\n",
    "\n",
    "function rotate(shift, old::Char)\n",
    "    #for x in old\n",
    "        if islowercase(old)\n",
    "            oldstart = findfirst(isequal(old), ('a' : 'z'))\n",
    "        else\n",
    "            oldstart = findfirst(isequal(old), ('A' : 'Z'))\n",
    "        end\n",
    "\n",
    "        if oldstart !== nothing\n",
    "            newstart = oldstart + shift\n",
    "            if newstart > 26; newstart -= 26; end\n",
    "            \n",
    "            if islowercase(old)\n",
    "                newletter = ('a' : 'z')[newstart]\n",
    "            else\n",
    "                newletter = ('A' : 'Z')[newstart]\n",
    "            end\n",
    "            \n",
    "            new = newletter\n",
    "        else\n",
    "            new = old\n",
    "        end\n",
    "    #end\n",
    "    return new\n",
    "end\n",
    "\n",
    "# rotate(5, \"omg\")\n",
    "# rotate(0, \"c\")\n",
    "# rotate(26, \"Cool\")\n",
    "# rotate(13, \"The quick brown fox jumps over the lazy dog.\")\n",
    "# rotate(13, \"Gur dhvpx oebja sbk whzcf bire gur ynml qbt.\")\n",
    "rotate(1, 'a') "
   ]
  },
  {
   "cell_type": "code",
   "execution_count": 51,
   "metadata": {},
   "outputs": [
    {
     "data": {
      "text/plain": [
       "\"2A3B4C\""
      ]
     },
     "metadata": {},
     "output_type": "display_data"
    }
   ],
   "source": [
    "function decode(s)\n",
    "    count = \"\"\n",
    "    old = \"\"\n",
    "    for x in s\n",
    "        #println(typeof(x))\n",
    "        if isletter(x) || isspace(x)\n",
    "            if count === \"\"\n",
    "                old *= \"$x\"\n",
    "            else\n",
    "                #println(parse(Int64, count))\n",
    "                old *= x^parse(Int64, count)\n",
    "            end\n",
    "            count = \"\"\n",
    "        else\n",
    "            count *= x\n",
    "        end\n",
    "    end\n",
    "    return old \n",
    "end\n",
    "\n",
    "function encode(s)\n",
    "    label = \"\"\n",
    "    count = 1\n",
    "    new = \"\"\n",
    "    for x in s\n",
    "        #println(x)\n",
    "        if x === label\n",
    "            count +=1\n",
    "        else\n",
    "            #println(count, label)\n",
    "            if count > 1\n",
    "                new *= \"$count$label\"\n",
    "            else\n",
    "                new *= label\n",
    "            end\n",
    "            count = 1\n",
    "            label = x\n",
    "        end\n",
    "    end\n",
    "\n",
    "    if count > 1\n",
    "        return new *= \"$count$label\"\n",
    "    else\n",
    "        return new *= label\n",
    "    end\n",
    "end\n",
    "#encode(\"WWWWWWWWWWWWBWWWWWWWWWWWWBBBWWWWWWWWWWWWWWWWWWWWWWWWB\")\n",
    "encode(\"AABBBCCCC\")\n",
    "#decode(\"12WB12W3B24WB\")"
   ]
  },
  {
   "cell_type": "code",
   "execution_count": 37,
   "metadata": {},
   "outputs": [
    {
     "data": {
      "text/plain": [
       "Dict{Any, Any} with 5 entries:\n",
       "  'a' => 1\n",
       "  'i' => 1\n",
       "  'e' => 1\n",
       "  'u' => 1\n",
       "  'o' => 1"
      ]
     },
     "metadata": {},
     "output_type": "display_data"
    }
   ],
   "source": [
    "# function transform(d)\n",
    "#     D = Dict()\n",
    "#     for pair in d\n",
    "#         for value in pair[2]\n",
    "#             #println(value, \"\\t\", pair[1])\n",
    "#             D[lowercase(value)] = pair[1]\n",
    "#         end\n",
    "#     end\n",
    "#     return D\n",
    "# end\n",
    "\n",
    "function transform(d)\n",
    "    D = Dict()\n",
    "    for (key, value) in d\n",
    "        for v in value \n",
    "            D[lowercase(v)] = key\n",
    "        end\n",
    "    end\n",
    "    return D\n",
    "end\n",
    "\n",
    "transform(Dict(1=>['A', 'E', 'I', 'O', 'U']))\n",
    "#transform(Dict(1=>['A', 'E'], 2=>['D', 'G']))"
   ]
  },
  {
   "cell_type": "code",
   "execution_count": 104,
   "metadata": {},
   "outputs": [
    {
     "name": "stdout",
     "output_type": "stream",
     "text": [
      "Vector{Base.KeySet{Any, Dict{Any, Any}}}[[[\"pollen\", \"peanuts\", \"eggs\", \"tomatoes\", \"chocolate\", \"shellfish\", \"cats\", \"strawberries\"]]]\n"
     ]
    }
   ],
   "source": [
    "list = \"\"\"\n",
    "eggs (1)\n",
    "peanuts (2)\n",
    "shellfish (4)\n",
    "strawberries (8)\n",
    "tomatoes (16)\n",
    "chocolate (32)\n",
    "pollen (64)\n",
    "cats (128)\n",
    "\"\"\"\n",
    "#items = []\n",
    "#scores = []\n",
    "D = Dict()\n",
    "lines = split(list, \"\\n\")[1:end-1]\n",
    "for line in lines\n",
    "    #println(line)\n",
    "    item = split(line, \" \")[1]\n",
    "    score = split(line, \" \")[2]\n",
    "    #push!(items, split(line, \" \")[1])\n",
    "    #push!(scores, split(line, \" \")[2])\n",
    "    D[item] = replace(score, r\"\\(|\\)\" => \"\")\n",
    "end \n",
    "#println(D)\n",
    "k = keys(D)\n",
    "using Combinatorics\n",
    "#println(collect(combinations([\"pollen\", \"peanuts\", \"eggs\", \"tomatoes\", \"chocolate\", \"shellfish\", \"cats\", \"strawberries\"])))\n",
    "println(collect(combinations([k])))\n",
    "# for (k, v) in D\n",
    "#     println(k, \"\\t\", v)\n",
    "# end\n",
    "# function allergic_to(score, allergen)\n",
    "# end\n",
    "# function allergy_list(score)\n",
    "# end\n",
    "# allergic_to(1, \"eggs\")\n"
   ]
  },
  {
   "cell_type": "code",
   "execution_count": 1,
   "metadata": {},
   "outputs": [
    {
     "name": "stdout",
     "output_type": "stream",
     "text": [
      "hello world!\n",
      "test VS code and GitHub on 16 Jan, 2022\n"
     ]
    }
   ],
   "source": [
    "println(\"hello world!\")\n",
    "println(\"test VS code and GitHub on 16 Jan, 2022\")"
   ]
  }
 ],
 "metadata": {
  "kernelspec": {
   "display_name": "Julia 1.6.2",
   "language": "julia",
   "name": "julia-1.6"
  },
  "language_info": {
   "file_extension": ".jl",
   "mimetype": "application/julia",
   "name": "julia",
   "version": "1.6.2"
  },
  "orig_nbformat": 4
 },
 "nbformat": 4,
 "nbformat_minor": 2
}
