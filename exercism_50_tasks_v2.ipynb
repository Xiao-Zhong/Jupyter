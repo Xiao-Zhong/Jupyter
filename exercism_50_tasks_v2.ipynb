{
 "cells": [
  {
   "cell_type": "code",
   "execution_count": 22,
   "metadata": {},
   "outputs": [
    {
     "data": {
      "text/plain": [
       "'b': ASCII/Unicode U+0062 (category Ll: Letter, lowercase)"
      ]
     },
     "metadata": {},
     "output_type": "display_data"
    }
   ],
   "source": [
    "function rotate(shift, old::String)\n",
    "    new = \"\"\n",
    "    for x in old\n",
    "        if islowercase(x)\n",
    "            oldstart = findfirst(isequal(x), ('a' : 'z'))\n",
    "        else\n",
    "            oldstart = findfirst(isequal(x), ('A' : 'Z'))\n",
    "        end\n",
    "\n",
    "        if oldstart !== nothing\n",
    "            newstart = oldstart + shift\n",
    "            if newstart > 26; newstart -= 26; end\n",
    "            \n",
    "            if islowercase(x)\n",
    "                newletter = ('a' : 'z')[newstart]\n",
    "            else\n",
    "                newletter = ('A' : 'Z')[newstart]\n",
    "            end\n",
    "            \n",
    "            new *=newletter\n",
    "        else\n",
    "            new *=x\n",
    "        end\n",
    "    end\n",
    "    return new\n",
    "end\n",
    "\n",
    "function rotate(shift, old::Char)\n",
    "    #for x in old\n",
    "        if islowercase(old)\n",
    "            oldstart = findfirst(isequal(old), ('a' : 'z'))\n",
    "        else\n",
    "            oldstart = findfirst(isequal(old), ('A' : 'Z'))\n",
    "        end\n",
    "\n",
    "        if oldstart !== nothing\n",
    "            newstart = oldstart + shift\n",
    "            if newstart > 26; newstart -= 26; end\n",
    "            \n",
    "            if islowercase(old)\n",
    "                newletter = ('a' : 'z')[newstart]\n",
    "            else\n",
    "                newletter = ('A' : 'Z')[newstart]\n",
    "            end\n",
    "            \n",
    "            new = newletter\n",
    "        else\n",
    "            new = old\n",
    "        end\n",
    "    #end\n",
    "    return new\n",
    "end\n",
    "\n",
    "# rotate(5, \"omg\")\n",
    "# rotate(0, \"c\")\n",
    "# rotate(26, \"Cool\")\n",
    "# rotate(13, \"The quick brown fox jumps over the lazy dog.\")\n",
    "# rotate(13, \"Gur dhvpx oebja sbk whzcf bire gur ynml qbt.\")\n",
    "rotate(1, 'a') "
   ]
  }
 ],
 "metadata": {
  "kernelspec": {
   "display_name": "Julia 1.6.2",
   "language": "julia",
   "name": "julia-1.6"
  },
  "language_info": {
   "file_extension": ".jl",
   "mimetype": "application/julia",
   "name": "julia",
   "version": "1.6.2"
  },
  "orig_nbformat": 4
 },
 "nbformat": 4,
 "nbformat_minor": 2
}
