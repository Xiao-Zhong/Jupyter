{
 "cells": [
  {
   "cell_type": "code",
   "execution_count": 22,
   "metadata": {},
   "outputs": [
    {
     "data": {
      "text/plain": [
       "'b': ASCII/Unicode U+0062 (category Ll: Letter, lowercase)"
      ]
     },
     "metadata": {},
     "output_type": "display_data"
    }
   ],
   "source": [
    "function rotate(shift, old::String)\n",
    "    new = \"\"\n",
    "    for x in old\n",
    "        if islowercase(x)\n",
    "            oldstart = findfirst(isequal(x), ('a' : 'z'))\n",
    "        else\n",
    "            oldstart = findfirst(isequal(x), ('A' : 'Z'))\n",
    "        end\n",
    "\n",
    "        if oldstart !== nothing\n",
    "            newstart = oldstart + shift\n",
    "            if newstart > 26; newstart -= 26; end\n",
    "            \n",
    "            if islowercase(x)\n",
    "                newletter = ('a' : 'z')[newstart]\n",
    "            else\n",
    "                newletter = ('A' : 'Z')[newstart]\n",
    "            end\n",
    "            \n",
    "            new *=newletter\n",
    "        else\n",
    "            new *=x\n",
    "        end\n",
    "    end\n",
    "    return new\n",
    "end\n",
    "\n",
    "function rotate(shift, old::Char)\n",
    "    #for x in old\n",
    "        if islowercase(old)\n",
    "            oldstart = findfirst(isequal(old), ('a' : 'z'))\n",
    "        else\n",
    "            oldstart = findfirst(isequal(old), ('A' : 'Z'))\n",
    "        end\n",
    "\n",
    "        if oldstart !== nothing\n",
    "            newstart = oldstart + shift\n",
    "            if newstart > 26; newstart -= 26; end\n",
    "            \n",
    "            if islowercase(old)\n",
    "                newletter = ('a' : 'z')[newstart]\n",
    "            else\n",
    "                newletter = ('A' : 'Z')[newstart]\n",
    "            end\n",
    "            \n",
    "            new = newletter\n",
    "        else\n",
    "            new = old\n",
    "        end\n",
    "    #end\n",
    "    return new\n",
    "end\n",
    "\n",
    "# rotate(5, \"omg\")\n",
    "# rotate(0, \"c\")\n",
    "# rotate(26, \"Cool\")\n",
    "# rotate(13, \"The quick brown fox jumps over the lazy dog.\")\n",
    "# rotate(13, \"Gur dhvpx oebja sbk whzcf bire gur ynml qbt.\")\n",
    "rotate(1, 'a') "
   ]
  },
  {
   "cell_type": "code",
   "execution_count": 49,
   "metadata": {},
   "outputs": [
    {
     "data": {
      "text/plain": [
       "\"2A3B4C\""
      ]
     },
     "metadata": {},
     "output_type": "display_data"
    }
   ],
   "source": [
    "function decode(s)\n",
    "    count = \"\"\n",
    "    old = \"\"\n",
    "    for x in s\n",
    "        #println(typeof(x))\n",
    "        if isletter(x) || isspace(x)\n",
    "            if count === \"\"\n",
    "                old *= \"$x\"\n",
    "            else\n",
    "                #println(parse(Int64, count))\n",
    "                old *= x^parse(Int64, count)\n",
    "            end\n",
    "            count = \"\"\n",
    "        else\n",
    "            count *= x\n",
    "        end\n",
    "    end\n",
    "    return old \n",
    "end\n",
    "\n",
    "function encode(s)\n",
    "    label = \"\"\n",
    "    count = 1\n",
    "    new = \"\"\n",
    "    for x in s\n",
    "        #println(x)\n",
    "        if x === label\n",
    "            count +=1\n",
    "        else\n",
    "            #println(count, label)\n",
    "            if count > 1\n",
    "                new *= \"$count$label\"\n",
    "            else\n",
    "                new *= label\n",
    "            end\n",
    "            count = 1\n",
    "            label = x\n",
    "        end\n",
    "    end\n",
    "    \n",
    "    if count > 1\n",
    "        return new *= \"$count$label\"\n",
    "    else\n",
    "        return new *= label\n",
    "    end\n",
    "end\n",
    "#encode(\"WWWWWWWWWWWWBWWWWWWWWWWWWBBBWWWWWWWWWWWWWWWWWWWWWWWWB\")\n",
    "encode(\"AABBBCCCC\")\n",
    "#decode(\"12WB12W3B24WB\")"
   ]
  }
 ],
 "metadata": {
  "kernelspec": {
   "display_name": "Julia 1.6.2",
   "language": "julia",
   "name": "julia-1.6"
  },
  "language_info": {
   "file_extension": ".jl",
   "mimetype": "application/julia",
   "name": "julia",
   "version": "1.6.2"
  },
  "orig_nbformat": 4
 },
 "nbformat": 4,
 "nbformat_minor": 2
}
